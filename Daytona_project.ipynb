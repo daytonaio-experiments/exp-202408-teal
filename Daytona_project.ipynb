{
  "cells": [
    {
      "cell_type": "markdown",
      "metadata": {
        "id": "99SWsKazZcxZ"
      },
      "source": [
        "Install needed libraries"
      ]
    },
    {
      "cell_type": "code",
      "execution_count": 1,
      "metadata": {
        "colab": {
          "base_uri": "https://localhost:8080/"
        },
        "id": "NUsTXAaMj4It",
        "outputId": "4f88589f-0ee2-4b36-a568-296f0bc46cab"
      },
      "outputs": [
        {
          "output_type": "stream",
          "name": "stdout",
          "text": [
            "Requirement already satisfied: requests in /usr/local/lib/python3.10/dist-packages (2.31.0)\n",
            "Requirement already satisfied: charset-normalizer<4,>=2 in /usr/local/lib/python3.10/dist-packages (from requests) (3.3.2)\n",
            "Requirement already satisfied: idna<4,>=2.5 in /usr/local/lib/python3.10/dist-packages (from requests) (3.7)\n",
            "Requirement already satisfied: urllib3<3,>=1.21.1 in /usr/local/lib/python3.10/dist-packages (from requests) (2.0.7)\n",
            "Requirement already satisfied: certifi>=2017.4.17 in /usr/local/lib/python3.10/dist-packages (from requests) (2024.6.2)\n",
            "Collecting PyGithub\n",
            "  Downloading PyGithub-2.3.0-py3-none-any.whl (354 kB)\n",
            "\u001b[2K     \u001b[90m━━━━━━━━━━━━━━━━━━━━━━━━━━━━━━━━━━━━━━━━\u001b[0m \u001b[32m354.4/354.4 kB\u001b[0m \u001b[31m4.8 MB/s\u001b[0m eta \u001b[36m0:00:00\u001b[0m\n",
            "\u001b[?25hCollecting pynacl>=1.4.0 (from PyGithub)\n",
            "  Downloading PyNaCl-1.5.0-cp36-abi3-manylinux_2_17_x86_64.manylinux2014_x86_64.manylinux_2_24_x86_64.whl (856 kB)\n",
            "\u001b[2K     \u001b[90m━━━━━━━━━━━━━━━━━━━━━━━━━━━━━━━━━━━━━━━━\u001b[0m \u001b[32m856.7/856.7 kB\u001b[0m \u001b[31m22.3 MB/s\u001b[0m eta \u001b[36m0:00:00\u001b[0m\n",
            "\u001b[?25hRequirement already satisfied: requests>=2.14.0 in /usr/local/lib/python3.10/dist-packages (from PyGithub) (2.31.0)\n",
            "Collecting pyjwt[crypto]>=2.4.0 (from PyGithub)\n",
            "  Downloading PyJWT-2.8.0-py3-none-any.whl (22 kB)\n",
            "Requirement already satisfied: typing-extensions>=4.0.0 in /usr/local/lib/python3.10/dist-packages (from PyGithub) (4.12.2)\n",
            "Requirement already satisfied: urllib3>=1.26.0 in /usr/local/lib/python3.10/dist-packages (from PyGithub) (2.0.7)\n",
            "Collecting Deprecated (from PyGithub)\n",
            "  Downloading Deprecated-1.2.14-py2.py3-none-any.whl (9.6 kB)\n",
            "Requirement already satisfied: cryptography>=3.4.0 in /usr/local/lib/python3.10/dist-packages (from pyjwt[crypto]>=2.4.0->PyGithub) (42.0.8)\n",
            "Requirement already satisfied: cffi>=1.4.1 in /usr/local/lib/python3.10/dist-packages (from pynacl>=1.4.0->PyGithub) (1.16.0)\n",
            "Requirement already satisfied: charset-normalizer<4,>=2 in /usr/local/lib/python3.10/dist-packages (from requests>=2.14.0->PyGithub) (3.3.2)\n",
            "Requirement already satisfied: idna<4,>=2.5 in /usr/local/lib/python3.10/dist-packages (from requests>=2.14.0->PyGithub) (3.7)\n",
            "Requirement already satisfied: certifi>=2017.4.17 in /usr/local/lib/python3.10/dist-packages (from requests>=2.14.0->PyGithub) (2024.6.2)\n",
            "Requirement already satisfied: wrapt<2,>=1.10 in /usr/local/lib/python3.10/dist-packages (from Deprecated->PyGithub) (1.14.1)\n",
            "Requirement already satisfied: pycparser in /usr/local/lib/python3.10/dist-packages (from cffi>=1.4.1->pynacl>=1.4.0->PyGithub) (2.22)\n",
            "Installing collected packages: pyjwt, Deprecated, pynacl, PyGithub\n",
            "  Attempting uninstall: pyjwt\n",
            "    Found existing installation: PyJWT 2.3.0\n",
            "    Uninstalling PyJWT-2.3.0:\n",
            "      Successfully uninstalled PyJWT-2.3.0\n",
            "Successfully installed Deprecated-1.2.14 PyGithub-2.3.0 pyjwt-2.8.0 pynacl-1.5.0\n",
            "Collecting openai\n",
            "  Downloading openai-1.35.7-py3-none-any.whl (327 kB)\n",
            "\u001b[2K     \u001b[90m━━━━━━━━━━━━━━━━━━━━━━━━━━━━━━━━━━━━━━━━\u001b[0m \u001b[32m327.5/327.5 kB\u001b[0m \u001b[31m4.6 MB/s\u001b[0m eta \u001b[36m0:00:00\u001b[0m\n",
            "\u001b[?25hRequirement already satisfied: anyio<5,>=3.5.0 in /usr/local/lib/python3.10/dist-packages (from openai) (3.7.1)\n",
            "Requirement already satisfied: distro<2,>=1.7.0 in /usr/lib/python3/dist-packages (from openai) (1.7.0)\n",
            "Collecting httpx<1,>=0.23.0 (from openai)\n",
            "  Downloading httpx-0.27.0-py3-none-any.whl (75 kB)\n",
            "\u001b[2K     \u001b[90m━━━━━━━━━━━━━━━━━━━━━━━━━━━━━━━━━━━━━━━━\u001b[0m \u001b[32m75.6/75.6 kB\u001b[0m \u001b[31m6.7 MB/s\u001b[0m eta \u001b[36m0:00:00\u001b[0m\n",
            "\u001b[?25hRequirement already satisfied: pydantic<3,>=1.9.0 in /usr/local/lib/python3.10/dist-packages (from openai) (2.7.4)\n",
            "Requirement already satisfied: sniffio in /usr/local/lib/python3.10/dist-packages (from openai) (1.3.1)\n",
            "Requirement already satisfied: tqdm>4 in /usr/local/lib/python3.10/dist-packages (from openai) (4.66.4)\n",
            "Requirement already satisfied: typing-extensions<5,>=4.7 in /usr/local/lib/python3.10/dist-packages (from openai) (4.12.2)\n",
            "Requirement already satisfied: idna>=2.8 in /usr/local/lib/python3.10/dist-packages (from anyio<5,>=3.5.0->openai) (3.7)\n",
            "Requirement already satisfied: exceptiongroup in /usr/local/lib/python3.10/dist-packages (from anyio<5,>=3.5.0->openai) (1.2.1)\n",
            "Requirement already satisfied: certifi in /usr/local/lib/python3.10/dist-packages (from httpx<1,>=0.23.0->openai) (2024.6.2)\n",
            "Collecting httpcore==1.* (from httpx<1,>=0.23.0->openai)\n",
            "  Downloading httpcore-1.0.5-py3-none-any.whl (77 kB)\n",
            "\u001b[2K     \u001b[90m━━━━━━━━━━━━━━━━━━━━━━━━━━━━━━━━━━━━━━━━\u001b[0m \u001b[32m77.9/77.9 kB\u001b[0m \u001b[31m4.9 MB/s\u001b[0m eta \u001b[36m0:00:00\u001b[0m\n",
            "\u001b[?25hCollecting h11<0.15,>=0.13 (from httpcore==1.*->httpx<1,>=0.23.0->openai)\n",
            "  Downloading h11-0.14.0-py3-none-any.whl (58 kB)\n",
            "\u001b[2K     \u001b[90m━━━━━━━━━━━━━━━━━━━━━━━━━━━━━━━━━━━━━━━━\u001b[0m \u001b[32m58.3/58.3 kB\u001b[0m \u001b[31m6.8 MB/s\u001b[0m eta \u001b[36m0:00:00\u001b[0m\n",
            "\u001b[?25hRequirement already satisfied: annotated-types>=0.4.0 in /usr/local/lib/python3.10/dist-packages (from pydantic<3,>=1.9.0->openai) (0.7.0)\n",
            "Requirement already satisfied: pydantic-core==2.18.4 in /usr/local/lib/python3.10/dist-packages (from pydantic<3,>=1.9.0->openai) (2.18.4)\n",
            "Installing collected packages: h11, httpcore, httpx, openai\n",
            "Successfully installed h11-0.14.0 httpcore-1.0.5 httpx-0.27.0 openai-1.35.7\n",
            "Requirement already satisfied: openai in /usr/local/lib/python3.10/dist-packages (1.35.7)\n",
            "Requirement already satisfied: anyio<5,>=3.5.0 in /usr/local/lib/python3.10/dist-packages (from openai) (3.7.1)\n",
            "Requirement already satisfied: distro<2,>=1.7.0 in /usr/lib/python3/dist-packages (from openai) (1.7.0)\n",
            "Requirement already satisfied: httpx<1,>=0.23.0 in /usr/local/lib/python3.10/dist-packages (from openai) (0.27.0)\n",
            "Requirement already satisfied: pydantic<3,>=1.9.0 in /usr/local/lib/python3.10/dist-packages (from openai) (2.7.4)\n",
            "Requirement already satisfied: sniffio in /usr/local/lib/python3.10/dist-packages (from openai) (1.3.1)\n",
            "Requirement already satisfied: tqdm>4 in /usr/local/lib/python3.10/dist-packages (from openai) (4.66.4)\n",
            "Requirement already satisfied: typing-extensions<5,>=4.7 in /usr/local/lib/python3.10/dist-packages (from openai) (4.12.2)\n",
            "Requirement already satisfied: idna>=2.8 in /usr/local/lib/python3.10/dist-packages (from anyio<5,>=3.5.0->openai) (3.7)\n",
            "Requirement already satisfied: exceptiongroup in /usr/local/lib/python3.10/dist-packages (from anyio<5,>=3.5.0->openai) (1.2.1)\n",
            "Requirement already satisfied: certifi in /usr/local/lib/python3.10/dist-packages (from httpx<1,>=0.23.0->openai) (2024.6.2)\n",
            "Requirement already satisfied: httpcore==1.* in /usr/local/lib/python3.10/dist-packages (from httpx<1,>=0.23.0->openai) (1.0.5)\n",
            "Requirement already satisfied: h11<0.15,>=0.13 in /usr/local/lib/python3.10/dist-packages (from httpcore==1.*->httpx<1,>=0.23.0->openai) (0.14.0)\n",
            "Requirement already satisfied: annotated-types>=0.4.0 in /usr/local/lib/python3.10/dist-packages (from pydantic<3,>=1.9.0->openai) (0.7.0)\n",
            "Requirement already satisfied: pydantic-core==2.18.4 in /usr/local/lib/python3.10/dist-packages (from pydantic<3,>=1.9.0->openai) (2.18.4)\n",
            "Collecting python-dotenv\n",
            "  Downloading python_dotenv-1.0.1-py3-none-any.whl (19 kB)\n",
            "Installing collected packages: python-dotenv\n",
            "Successfully installed python-dotenv-1.0.1\n"
          ]
        }
      ],
      "source": [
        "%pip install requests\n",
        "%pip install PyGithub\n",
        "%pip install openai\n",
        "%pip install --upgrade openai\n",
        "%pip install python-dotenv"
      ]
    },
    {
      "cell_type": "markdown",
      "metadata": {
        "id": "m9EtvGvDj16g"
      },
      "source": [
        "Imports"
      ]
    },
    {
      "cell_type": "code",
      "execution_count": 2,
      "metadata": {
        "id": "ztCe4NgXj6On"
      },
      "outputs": [],
      "source": [
        "from github import Github\n",
        "from openai import OpenAI,AzureOpenAI\n",
        "import json\n",
        "import requests\n",
        "import re\n",
        "from dotenv import load_dotenv\n",
        "import os"
      ]
    },
    {
      "cell_type": "markdown",
      "metadata": {
        "id": "jvvDeh4pjxXJ"
      },
      "source": [
        "Function to check if input is already a GitHub repo"
      ]
    },
    {
      "cell_type": "code",
      "execution_count": 54,
      "metadata": {
        "id": "XSMxuFSCbBBJ"
      },
      "outputs": [],
      "source": [
        "def is_github_repo_link(env):\n",
        "    return env.startswith(\"https://github.com/\") or env.startswith(\"http://github.com/\")"
      ]
    },
    {
      "cell_type": "markdown",
      "metadata": {
        "id": "vXke2spCavGG"
      },
      "source": [
        "Prompt for user"
      ]
    },
    {
      "cell_type": "code",
      "execution_count": 89,
      "metadata": {
        "colab": {
          "base_uri": "https://localhost:8080/"
        },
        "id": "59Z2rh5mZfRE",
        "outputId": "ad61aa73-bb2b-4cdf-9354-18b92f30a107"
      },
      "outputs": [
        {
          "name": "stdout",
          "output_type": "stream",
          "text": [
            "Enter a name of the environment or link to GitHub repo: angular\n"
          ]
        }
      ],
      "source": [
        "prompt = input(\"Enter a name of the environment or link to GitHub repo: \")\n",
        "flag = True\n",
        "if is_github_repo_link(prompt) == False:\n",
        "   flag = False"
      ]
    },
    {
      "cell_type": "markdown",
      "metadata": {
        "id": "f0EL_NkliqeI"
      },
      "source": [
        "Function for searching GitHub repositories"
      ]
    },
    {
      "cell_type": "code",
      "execution_count": 90,
      "metadata": {
        "id": "7w02ek88i7SN"
      },
      "outputs": [],
      "source": [
        "def retrieve_files(repo_urls):\n",
        "    file_names = ['README.md', 'install.md', 'package.json']\n",
        "    files_content = {file_name: [] for file_name in file_names}\n",
        "\n",
        "    for url in repo_urls:\n",
        "        if url.endswith('.git'):\n",
        "            repo_name = url[:-4].split('github.com/')[-1]\n",
        "        else:\n",
        "            repo_name = url.split('github.com/')[-1]\n",
        "\n",
        "        branches = ['main', 'master']\n",
        "        for branch in branches:\n",
        "            api_url = f\"https://api.github.com/repos/{repo_name}/git/trees/{branch}?recursive=1\"\n",
        "\n",
        "            try:\n",
        "                response = requests.get(api_url)\n",
        "                if response.status_code == 200:\n",
        "                    tree = response.json().get('tree', [])\n",
        "                    for file_info in tree:\n",
        "                        file_path = file_info['path']\n",
        "                        file_name = file_path.split('/')[-1]\n",
        "                        if file_name in file_names:\n",
        "                            file_url = f\"https://raw.githubusercontent.com/{repo_name}/{branch}/{file_path}\"\n",
        "                            file_response = requests.get(file_url)\n",
        "                            if file_response.status_code == 200:\n",
        "                                files_content[file_name].append(file_response.text)\n",
        "                                print(f\"Successfully retrieved {file_name} from {file_url}\")\n",
        "                            else:\n",
        "                                print(f\"Failed to retrieve {file_name} from {file_url}. Status code: {file_response.status_code}\")\n",
        "                    break  # Exit loop if successful\n",
        "                elif response.status_code == 404:\n",
        "                    print(f\"Branch '{branch}' not found for repository {repo_name}.\")\n",
        "                else:\n",
        "                    print(f\"Failed to retrieve file list from {api_url}. Status code: {response.status_code}\")\n",
        "            except requests.exceptions.RequestException as e:\n",
        "                print(f\"Error while trying to get file list from {api_url}: {e}\")\n",
        "\n",
        "    return files_content"
      ]
    },
    {
      "cell_type": "markdown",
      "metadata": {
        "id": "aqNtexJlrsAC"
      },
      "source": [
        "OpenAI API for getting repositories"
      ]
    },
    {
      "cell_type": "code",
      "execution_count": 91,
      "metadata": {
        "id": "6JLbTX8SrvO0",
        "colab": {
          "base_uri": "https://localhost:8080/"
        },
        "outputId": "33381db6-cc00-42d0-df6b-207a14e2f82d"
      },
      "outputs": [
        {
          "output_type": "stream",
          "name": "stdout",
          "text": [
            "['https://github.com/angular/angular', 'https://github.com/ngx-translate/core', 'https://github.com/ngrx/platform', 'https://github.com/angular/angular-cli', 'https://github.com/angular/components']\n"
          ]
        }
      ],
      "source": [
        "load_dotenv()\n",
        "client = AzureOpenAI(\n",
        "    api_key=os.getenv(\"AZURE_OPENAI_KEY\"),\n",
        "    azure_endpoint=\"https://daytonaai-us.openai.azure.com/\",\n",
        "    api_version=os.getenv(\"AZURE_OPENAI_API_VERSION\")\n",
        ")\n",
        "def generate_github_repos(prompt, model=\"gpt-4o\"):\n",
        "    system_prompt = \"You are an AI assistant that suggests relevant GitHub repositories based on a project description.\"\n",
        "    user_prompt = f\"Suggest GitHub repositories for a project that involves the following technologies: {prompt}. Provide only the URLs of the repositories.\"\n",
        "\n",
        "    response = client.chat.completions.create(\n",
        "        model=model,\n",
        "        messages=[\n",
        "            {\"role\": \"system\", \"content\": system_prompt},\n",
        "            {\"role\": \"user\", \"content\": user_prompt}\n",
        "        ]\n",
        "    )\n",
        "\n",
        "    suggested_repos = response.choices[0].message.content.strip()\n",
        "    repo_urls = re.findall(r'(https?://github\\.com/[^\\s]+)', suggested_repos)\n",
        "    return repo_urls\n",
        "repo_urls = generate_github_repos(prompt)\n",
        "if repo_urls:\n",
        "    print(repo_urls)\n",
        "else:\n",
        "    print(\"Failed to fetch repository URLs.\")"
      ]
    },
    {
      "cell_type": "markdown",
      "metadata": {
        "id": "1OnKaxF7X4fe"
      },
      "source": [
        "Analyze and pre-process the data"
      ]
    },
    {
      "cell_type": "code",
      "execution_count": 81,
      "metadata": {
        "id": "rw0PzSofrwpL"
      },
      "outputs": [],
      "source": [
        "def parse_readme(content):\n",
        "    sections = {}\n",
        "    current_section = None\n",
        "    lines = content.split('\\n')\n",
        "\n",
        "    for line in lines:\n",
        "        header_match = re.match(r'^(#+)\\s+(.*)', line)\n",
        "        if header_match:\n",
        "            level = len(header_match.group(1))\n",
        "            section_name = header_match.group(2).strip()\n",
        "            current_section = section_name\n",
        "            sections[current_section] = []\n",
        "        elif current_section:\n",
        "            sections[current_section].append(line)\n",
        "\n",
        "    for section in sections:\n",
        "        sections[section] = \"\\n\".join(sections[section])\n",
        "\n",
        "    return sections"
      ]
    },
    {
      "cell_type": "code",
      "execution_count": 75,
      "metadata": {
        "id": "bbzs3gu2tHcG"
      },
      "outputs": [],
      "source": [
        "def parse_package_json(content):\n",
        "    try:\n",
        "        package_data = json.loads(content)\n",
        "        return {\n",
        "            \"dependencies\": package_data.get(\"dependencies\", {}),\n",
        "            \"devDependencies\": package_data.get(\"devDependencies\", {}),\n",
        "            \"scripts\": package_data.get(\"scripts\", {})\n",
        "        }\n",
        "    except json.JSONDecodeError as e:\n",
        "        print(f\"Error parsing package.json: {e}\")\n",
        "        return {}"
      ]
    },
    {
      "cell_type": "code",
      "execution_count": 82,
      "metadata": {
        "id": "qvL53TGvtLjH"
      },
      "outputs": [],
      "source": [
        "def collect_context(files_content):\n",
        "    context = {}\n",
        "\n",
        "    for file_name, contents in files_content.items():\n",
        "        if file_name == 'README.md':\n",
        "            for content in contents:\n",
        "                context[file_name] = parse_readme(content)\n",
        "        elif file_name == 'package.json':\n",
        "            for content in contents:\n",
        "                context[file_name] = parse_package_json(content)\n",
        "\n",
        "    return context"
      ]
    },
    {
      "cell_type": "markdown",
      "metadata": {
        "id": "n8sQjtEG1WSh"
      },
      "source": [
        "Generate JSON file for Dev Container with OpenAI API"
      ]
    },
    {
      "cell_type": "code",
      "execution_count": 87,
      "metadata": {
        "id": "R15es83F1cLG"
      },
      "outputs": [],
      "source": [
        "load_dotenv()\n",
        "client = AzureOpenAI(\n",
        "    api_key=os.getenv(\"AZURE_OPENAI_KEY\"),\n",
        "    azure_endpoint=\"https://daytonaai-us.openai.azure.com/\",\n",
        "    api_version=os.getenv(\"AZURE_OPENAI_API_VERSION\")\n",
        ")\n",
        "def generate_dev_container_json(prompt, model=\"gpt-4o\"):\n",
        "    system_prompt = \"You are an AI assistant that creates JSON file for dev container.\\n\\n\"\n",
        "    user_prompt = f\"Generate JSON configuration for dev container based on the context provided: {context}\"\n",
        "\n",
        "    response = client.chat.completions.create(\n",
        "        model=model,\n",
        "        messages=[\n",
        "            {\"role\": \"system\", \"content\": system_prompt},\n",
        "            {\"role\": \"user\", \"content\": user_prompt}\n",
        "        ]\n",
        "    )\n",
        "\n",
        "\n",
        "    print(\"Raw API Response:\")\n",
        "    print(response)\n",
        "\n",
        "    if 'data' in response:\n",
        "        for message in response['data']:\n",
        "            if message['role'] == 'assistant':\n",
        "                generated_json = message['content']\n",
        "                try:\n",
        "                    parsed_json = json.loads(generated_json)\n",
        "                    print(\"Generated Dev Container JSON Configuration:\")\n",
        "                    print(json.dumps(parsed_json, indent=4))\n",
        "                    return parsed_json\n",
        "                except json.JSONDecodeError as e:\n",
        "                    print(f\"Error decoding JSON: {e}\")\n",
        "                    return None\n",
        "            else:\n",
        "                print(f\"Role '{message['role']}' not recognized.\")\n",
        "                return None\n",
        "    else:\n",
        "        print(\"No 'data' key found in API response.\")\n",
        "        return None\n"
      ]
    },
    {
      "cell_type": "code",
      "source": [
        "if flag == False:\n",
        "  repos=generate_github_repos(prompt)\n",
        "  files=retrieve_files(repos)\n",
        "else:\n",
        "  repo=[prompt]\n",
        "  files=retrieve_files(repo)\n",
        "context = collect_context(files)\n",
        "generate_dev_container_json(context)"
      ],
      "metadata": {
        "colab": {
          "base_uri": "https://localhost:8080/"
        },
        "id": "nc4YEgtN07_i",
        "outputId": "9a7b3224-7d2a-439f-f3fb-fdc6d1d3edc4"
      },
      "execution_count": 92,
      "outputs": [
        {
          "output_type": "stream",
          "name": "stdout",
          "text": [
            "Successfully retrieved README.md from https://raw.githubusercontent.com/angular/angular/main/.circleci/README.md\n",
            "Successfully retrieved README.md from https://raw.githubusercontent.com/angular/angular/main/.devcontainer/README.md\n",
            "Successfully retrieved package.json from https://raw.githubusercontent.com/angular/angular/main/.github/actions/deploy-docs-site/package.json\n",
            "Successfully retrieved README.md from https://raw.githubusercontent.com/angular/angular/main/.vscode/README.md\n",
            "Successfully retrieved README.md from https://raw.githubusercontent.com/angular/angular/main/.yarn/README.md\n",
            "Successfully retrieved README.md from https://raw.githubusercontent.com/angular/angular/main/README.md\n",
            "Successfully retrieved README.md from https://raw.githubusercontent.com/angular/angular/main/adev/README.md\n",
            "Successfully retrieved README.md from https://raw.githubusercontent.com/angular/angular/main/adev/scripts/update-cli-help/README.md\n",
            "Successfully retrieved README.md from https://raw.githubusercontent.com/angular/angular/main/adev/src/app/editor/README.md\n",
            "Successfully retrieved package.json from https://raw.githubusercontent.com/angular/angular/main/adev/src/content/examples/schematics-for-libraries/projects/my-lib/package.json\n",
            "Successfully retrieved README.md from https://raw.githubusercontent.com/angular/angular/main/adev/src/content/tutorials/README.md\n",
            "Successfully retrieved package.json from https://raw.githubusercontent.com/angular/angular/main/adev/src/content/tutorials/first-app/common/package.json\n",
            "Successfully retrieved README.md from https://raw.githubusercontent.com/angular/angular/main/adev/src/content/tutorials/first-app/intro/README.md\n",
            "Successfully retrieved README.md from https://raw.githubusercontent.com/angular/angular/main/adev/src/content/tutorials/first-app/steps/01-hello-world/README.md\n",
            "Successfully retrieved README.md from https://raw.githubusercontent.com/angular/angular/main/adev/src/content/tutorials/first-app/steps/02-HomeComponent/README.md\n",
            "Successfully retrieved README.md from https://raw.githubusercontent.com/angular/angular/main/adev/src/content/tutorials/first-app/steps/03-HousingLocation/README.md\n",
            "Successfully retrieved README.md from https://raw.githubusercontent.com/angular/angular/main/adev/src/content/tutorials/first-app/steps/04-interfaces/README.md\n",
            "Successfully retrieved README.md from https://raw.githubusercontent.com/angular/angular/main/adev/src/content/tutorials/first-app/steps/05-inputs/README.md\n",
            "Successfully retrieved README.md from https://raw.githubusercontent.com/angular/angular/main/adev/src/content/tutorials/first-app/steps/06-property-binding/README.md\n",
            "Successfully retrieved README.md from https://raw.githubusercontent.com/angular/angular/main/adev/src/content/tutorials/first-app/steps/07-dynamic-template-values/README.md\n",
            "Successfully retrieved README.md from https://raw.githubusercontent.com/angular/angular/main/adev/src/content/tutorials/first-app/steps/08-ngFor/README.md\n",
            "Successfully retrieved README.md from https://raw.githubusercontent.com/angular/angular/main/adev/src/content/tutorials/first-app/steps/09-services/README.md\n",
            "Successfully retrieved README.md from https://raw.githubusercontent.com/angular/angular/main/adev/src/content/tutorials/first-app/steps/10-routing/README.md\n",
            "Successfully retrieved README.md from https://raw.githubusercontent.com/angular/angular/main/adev/src/content/tutorials/first-app/steps/11-details-page/README.md\n",
            "Successfully retrieved README.md from https://raw.githubusercontent.com/angular/angular/main/adev/src/content/tutorials/first-app/steps/12-forms/README.md\n",
            "Successfully retrieved README.md from https://raw.githubusercontent.com/angular/angular/main/adev/src/content/tutorials/first-app/steps/13-search/README.md\n",
            "Successfully retrieved README.md from https://raw.githubusercontent.com/angular/angular/main/adev/src/content/tutorials/first-app/steps/14-http/README.md\n",
            "Successfully retrieved package.json from https://raw.githubusercontent.com/angular/angular/main/adev/src/content/tutorials/homepage/package.json\n",
            "Successfully retrieved package.json from https://raw.githubusercontent.com/angular/angular/main/adev/src/content/tutorials/learn-angular/common/package.json\n",
            "Successfully retrieved README.md from https://raw.githubusercontent.com/angular/angular/main/adev/src/content/tutorials/learn-angular/intro/README.md\n",
            "Successfully retrieved README.md from https://raw.githubusercontent.com/angular/angular/main/adev/src/content/tutorials/learn-angular/steps/1-components-in-angular/README.md\n",
            "Successfully retrieved README.md from https://raw.githubusercontent.com/angular/angular/main/adev/src/content/tutorials/learn-angular/steps/10-deferrable-views/README.md\n",
            "Successfully retrieved README.md from https://raw.githubusercontent.com/angular/angular/main/adev/src/content/tutorials/learn-angular/steps/11-optimizing-images/README.md\n",
            "Successfully retrieved README.md from https://raw.githubusercontent.com/angular/angular/main/adev/src/content/tutorials/learn-angular/steps/12-enable-routing/README.md\n",
            "Successfully retrieved README.md from https://raw.githubusercontent.com/angular/angular/main/adev/src/content/tutorials/learn-angular/steps/13-define-a-route/README.md\n",
            "Successfully retrieved README.md from https://raw.githubusercontent.com/angular/angular/main/adev/src/content/tutorials/learn-angular/steps/14-routerLink/README.md\n",
            "Successfully retrieved README.md from https://raw.githubusercontent.com/angular/angular/main/adev/src/content/tutorials/learn-angular/steps/15-forms/README.md\n",
            "Successfully retrieved README.md from https://raw.githubusercontent.com/angular/angular/main/adev/src/content/tutorials/learn-angular/steps/16-form-control-values/README.md\n",
            "Successfully retrieved README.md from https://raw.githubusercontent.com/angular/angular/main/adev/src/content/tutorials/learn-angular/steps/17-reactive-forms/README.md\n",
            "Successfully retrieved README.md from https://raw.githubusercontent.com/angular/angular/main/adev/src/content/tutorials/learn-angular/steps/18-forms-validation/README.md\n",
            "Successfully retrieved README.md from https://raw.githubusercontent.com/angular/angular/main/adev/src/content/tutorials/learn-angular/steps/19-creating-an-injectable-service/README.md\n",
            "Successfully retrieved README.md from https://raw.githubusercontent.com/angular/angular/main/adev/src/content/tutorials/learn-angular/steps/2-updating-the-component-class/README.md\n",
            "Successfully retrieved README.md from https://raw.githubusercontent.com/angular/angular/main/adev/src/content/tutorials/learn-angular/steps/20-inject-based-di/README.md\n",
            "Successfully retrieved README.md from https://raw.githubusercontent.com/angular/angular/main/adev/src/content/tutorials/learn-angular/steps/21-constructor-based-di/README.md\n",
            "Successfully retrieved README.md from https://raw.githubusercontent.com/angular/angular/main/adev/src/content/tutorials/learn-angular/steps/22-pipes/README.md\n",
            "Successfully retrieved README.md from https://raw.githubusercontent.com/angular/angular/main/adev/src/content/tutorials/learn-angular/steps/23-pipes-format-data/README.md\n",
            "Successfully retrieved README.md from https://raw.githubusercontent.com/angular/angular/main/adev/src/content/tutorials/learn-angular/steps/24-create-a-pipe/README.md\n",
            "Successfully retrieved README.md from https://raw.githubusercontent.com/angular/angular/main/adev/src/content/tutorials/learn-angular/steps/25-next-steps/README.md\n",
            "Successfully retrieved README.md from https://raw.githubusercontent.com/angular/angular/main/adev/src/content/tutorials/learn-angular/steps/3-composing-components/README.md\n",
            "Successfully retrieved README.md from https://raw.githubusercontent.com/angular/angular/main/adev/src/content/tutorials/learn-angular/steps/4-control-flow-if/README.md\n",
            "Successfully retrieved README.md from https://raw.githubusercontent.com/angular/angular/main/adev/src/content/tutorials/learn-angular/steps/5-control-flow-for/README.md\n",
            "Successfully retrieved README.md from https://raw.githubusercontent.com/angular/angular/main/adev/src/content/tutorials/learn-angular/steps/6-property-binding/README.md\n",
            "Successfully retrieved README.md from https://raw.githubusercontent.com/angular/angular/main/adev/src/content/tutorials/learn-angular/steps/7-event-handling/README.md\n",
            "Successfully retrieved README.md from https://raw.githubusercontent.com/angular/angular/main/adev/src/content/tutorials/learn-angular/steps/8-input/README.md\n",
            "Successfully retrieved README.md from https://raw.githubusercontent.com/angular/angular/main/adev/src/content/tutorials/learn-angular/steps/9-output/README.md\n",
            "Successfully retrieved package.json from https://raw.githubusercontent.com/angular/angular/main/adev/src/content/tutorials/playground/common/package.json\n",
            "Successfully retrieved README.md from https://raw.githubusercontent.com/angular/angular/main/devtools/README.md\n",
            "Successfully retrieved README.md from https://raw.githubusercontent.com/angular/angular/main/devtools/projects/ng-devtools-backend/README.md\n",
            "Successfully retrieved README.md from https://raw.githubusercontent.com/angular/angular/main/devtools/projects/ng-devtools/README.md\n",
            "Successfully retrieved README.md from https://raw.githubusercontent.com/angular/angular/main/devtools/projects/ng-devtools/src/lib/vendor/memo-decorator/README.md\n",
            "Successfully retrieved README.md from https://raw.githubusercontent.com/angular/angular/main/devtools/projects/ng-devtools/src/lib/vendor/webtreemap/README.md\n",
            "Successfully retrieved README.md from https://raw.githubusercontent.com/angular/angular/main/devtools/projects/protocol/README.md\n",
            "Successfully retrieved README.md from https://raw.githubusercontent.com/angular/angular/main/devtools/projects/shared-utils/README.md\n",
            "Successfully retrieved README.md from https://raw.githubusercontent.com/angular/angular/main/goldens/README.md\n",
            "Successfully retrieved README.md from https://raw.githubusercontent.com/angular/angular/main/integration/README.md\n",
            "Successfully retrieved README.md from https://raw.githubusercontent.com/angular/angular/main/integration/animations-async/README.md\n",
            "Successfully retrieved package.json from https://raw.githubusercontent.com/angular/angular/main/integration/animations-async/package.json\n",
            "Successfully retrieved README.md from https://raw.githubusercontent.com/angular/angular/main/integration/animations/README.md\n",
            "Successfully retrieved package.json from https://raw.githubusercontent.com/angular/angular/main/integration/animations/package.json\n",
            "Successfully retrieved README.md from https://raw.githubusercontent.com/angular/angular/main/integration/cli-elements-universal/README.md\n",
            "Successfully retrieved package.json from https://raw.githubusercontent.com/angular/angular/main/integration/cli-elements-universal/package.json\n",
            "Successfully retrieved README.md from https://raw.githubusercontent.com/angular/angular/main/integration/cli-hello-world-ivy-i18n/README.md\n",
            "Successfully retrieved package.json from https://raw.githubusercontent.com/angular/angular/main/integration/cli-hello-world-ivy-i18n/package.json\n",
            "Successfully retrieved README.md from https://raw.githubusercontent.com/angular/angular/main/integration/cli-hello-world-lazy/README.md\n",
            "Successfully retrieved package.json from https://raw.githubusercontent.com/angular/angular/main/integration/cli-hello-world-lazy/package.json\n",
            "Successfully retrieved README.md from https://raw.githubusercontent.com/angular/angular/main/integration/cli-hello-world-mocha/README.md\n",
            "Successfully retrieved package.json from https://raw.githubusercontent.com/angular/angular/main/integration/cli-hello-world-mocha/package.json\n",
            "Successfully retrieved README.md from https://raw.githubusercontent.com/angular/angular/main/integration/cli-hello-world/README.md\n",
            "Successfully retrieved package.json from https://raw.githubusercontent.com/angular/angular/main/integration/cli-hello-world/package.json\n",
            "Successfully retrieved README.md from https://raw.githubusercontent.com/angular/angular/main/integration/cli-signal-inputs/README.md\n",
            "Successfully retrieved package.json from https://raw.githubusercontent.com/angular/angular/main/integration/cli-signal-inputs/package.json\n",
            "Successfully retrieved README.md from https://raw.githubusercontent.com/angular/angular/main/integration/defer/README.md\n",
            "Successfully retrieved package.json from https://raw.githubusercontent.com/angular/angular/main/integration/defer/package.json\n",
            "Successfully retrieved package.json from https://raw.githubusercontent.com/angular/angular/main/integration/dynamic-compiler/package.json\n",
            "Successfully retrieved README.md from https://raw.githubusercontent.com/angular/angular/main/integration/forms/README.md\n",
            "Successfully retrieved package.json from https://raw.githubusercontent.com/angular/angular/main/integration/forms/package.json\n",
            "Successfully retrieved package.json from https://raw.githubusercontent.com/angular/angular/main/integration/injectable-def/package.json\n",
            "Successfully retrieved package.json from https://raw.githubusercontent.com/angular/angular/main/integration/injectable-def/src/package.json\n",
            "Successfully retrieved README.md from https://raw.githubusercontent.com/angular/angular/main/integration/ivy-i18n/README.md\n",
            "Successfully retrieved README.md from https://raw.githubusercontent.com/angular/angular/main/integration/ivy-i18n/e2e/README.md\n",
            "Successfully retrieved package.json from https://raw.githubusercontent.com/angular/angular/main/integration/ivy-i18n/package.json\n",
            "Successfully retrieved README.md from https://raw.githubusercontent.com/angular/angular/main/integration/ng-add-localize/README.md\n",
            "Successfully retrieved package.json from https://raw.githubusercontent.com/angular/angular/main/integration/ng-add-localize/package.json\n",
            "Successfully retrieved package.json from https://raw.githubusercontent.com/angular/angular/main/integration/ng_elements/package.json\n",
            "Successfully retrieved package.json from https://raw.githubusercontent.com/angular/angular/main/integration/ng_update/package.json\n",
            "Successfully retrieved README.md from https://raw.githubusercontent.com/angular/angular/main/integration/ng_update_migrations/README.md\n",
            "Successfully retrieved package.json from https://raw.githubusercontent.com/angular/angular/main/integration/ng_update_migrations/package.json\n",
            "Successfully retrieved package.json from https://raw.githubusercontent.com/angular/angular/main/integration/nodenext_resolution/package.json\n",
            "Successfully retrieved package.json from https://raw.githubusercontent.com/angular/angular/main/integration/platform-server-hydration/package.json\n",
            "Successfully retrieved README.md from https://raw.githubusercontent.com/angular/angular/main/integration/platform-server/README.md\n",
            "Successfully retrieved package.json from https://raw.githubusercontent.com/angular/angular/main/integration/platform-server/package.json\n",
            "Successfully retrieved package.json from https://raw.githubusercontent.com/angular/angular/main/integration/service-worker-schema/package.json\n",
            "Successfully retrieved README.md from https://raw.githubusercontent.com/angular/angular/main/integration/side-effects/README.md\n",
            "Successfully retrieved package.json from https://raw.githubusercontent.com/angular/angular/main/integration/side-effects/package.json\n",
            "Successfully retrieved README.md from https://raw.githubusercontent.com/angular/angular/main/integration/standalone-bootstrap/README.md\n",
            "Successfully retrieved package.json from https://raw.githubusercontent.com/angular/angular/main/integration/standalone-bootstrap/package.json\n",
            "Successfully retrieved package.json from https://raw.githubusercontent.com/angular/angular/main/integration/terser/package.json\n",
            "Successfully retrieved README.md from https://raw.githubusercontent.com/angular/angular/main/integration/trusted-types/README.md\n",
            "Successfully retrieved package.json from https://raw.githubusercontent.com/angular/angular/main/integration/trusted-types/package.json\n",
            "Successfully retrieved package.json from https://raw.githubusercontent.com/angular/angular/main/integration/typings_test_rxjs7/package.json\n",
            "Successfully retrieved package.json from https://raw.githubusercontent.com/angular/angular/main/integration/typings_test_ts54/package.json\n",
            "Successfully retrieved package.json from https://raw.githubusercontent.com/angular/angular/main/integration/typings_test_ts55/package.json\n",
            "Successfully retrieved README.md from https://raw.githubusercontent.com/angular/angular/main/modules/benchmarks/README.md\n",
            "Successfully retrieved README.md from https://raw.githubusercontent.com/angular/angular/main/modules/benchmarks/src/README.md\n",
            "Successfully retrieved README.md from https://raw.githubusercontent.com/angular/angular/main/modules/benchmarks/src/defer/README.md\n",
            "Successfully retrieved README.md from https://raw.githubusercontent.com/angular/angular/main/modules/benchmarks/src/hydration/README.md\n",
            "Successfully retrieved README.md from https://raw.githubusercontent.com/angular/angular/main/modules/benchmarks/src/largeform/README.md\n",
            "Successfully retrieved README.md from https://raw.githubusercontent.com/angular/angular/main/modules/playground/README.md\n",
            "Successfully retrieved package.json from https://raw.githubusercontent.com/angular/angular/main/package.json\n",
            "Successfully retrieved README.md from https://raw.githubusercontent.com/angular/angular/main/packages/README.md\n",
            "Successfully retrieved package.json from https://raw.githubusercontent.com/angular/angular/main/packages/animations/package.json\n",
            "Successfully retrieved package.json from https://raw.githubusercontent.com/angular/angular/main/packages/bazel/package.json\n",
            "Successfully retrieved README.md from https://raw.githubusercontent.com/angular/angular/main/packages/bazel/src/ngc-wrapped/README.md\n",
            "Successfully retrieved package.json from https://raw.githubusercontent.com/angular/angular/main/packages/bazel/test/ng_package/example-with-ts-library/package.json\n",
            "Successfully retrieved package.json from https://raw.githubusercontent.com/angular/angular/main/packages/bazel/test/ng_package/example/package.json\n",
            "Successfully retrieved README.md from https://raw.githubusercontent.com/angular/angular/main/packages/bazel/test/ngc-wrapped/empty/README.md\n",
            "Successfully retrieved README.md from https://raw.githubusercontent.com/angular/angular/main/packages/benchpress/README.md\n",
            "Successfully retrieved package.json from https://raw.githubusercontent.com/angular/angular/main/packages/benchpress/package.json\n",
            "Successfully retrieved README.md from https://raw.githubusercontent.com/angular/angular/main/packages/common/locales/generate-locales-tool/README.md\n",
            "Successfully retrieved package.json from https://raw.githubusercontent.com/angular/angular/main/packages/common/package.json\n",
            "Successfully retrieved README.md from https://raw.githubusercontent.com/angular/angular/main/packages/compiler-cli/linker/README.md\n",
            "Successfully retrieved README.md from https://raw.githubusercontent.com/angular/angular/main/packages/compiler-cli/linker/babel/README.md\n",
            "Successfully retrieved package.json from https://raw.githubusercontent.com/angular/angular/main/packages/compiler-cli/package.json\n",
            "Successfully retrieved README.md from https://raw.githubusercontent.com/angular/angular/main/packages/compiler-cli/private/README.md\n",
            "Successfully retrieved README.md from https://raw.githubusercontent.com/angular/angular/main/packages/compiler-cli/src/ngtsc/annotations/README.md\n",
            "Successfully retrieved README.md from https://raw.githubusercontent.com/angular/angular/main/packages/compiler-cli/src/ngtsc/annotations/common/README.md\n",
            "Successfully retrieved README.md from https://raw.githubusercontent.com/angular/angular/main/packages/compiler-cli/src/ngtsc/annotations/component/README.md\n",
            "Successfully retrieved README.md from https://raw.githubusercontent.com/angular/angular/main/packages/compiler-cli/src/ngtsc/annotations/directive/README.md\n",
            "Successfully retrieved README.md from https://raw.githubusercontent.com/angular/angular/main/packages/compiler-cli/src/ngtsc/annotations/ng_module/README.md\n",
            "Successfully retrieved README.md from https://raw.githubusercontent.com/angular/angular/main/packages/compiler-cli/src/ngtsc/core/README.md\n",
            "Successfully retrieved README.md from https://raw.githubusercontent.com/angular/angular/main/packages/compiler-cli/src/ngtsc/file_system/README.md\n",
            "Successfully retrieved README.md from https://raw.githubusercontent.com/angular/angular/main/packages/compiler-cli/src/ngtsc/imports/README.md\n",
            "Successfully retrieved README.md from https://raw.githubusercontent.com/angular/angular/main/packages/compiler-cli/src/ngtsc/incremental/README.md\n",
            "Successfully retrieved README.md from https://raw.githubusercontent.com/angular/angular/main/packages/compiler-cli/src/ngtsc/indexer/README.md\n",
            "Successfully retrieved README.md from https://raw.githubusercontent.com/angular/angular/main/packages/compiler-cli/src/ngtsc/logging/README.md\n",
            "Successfully retrieved README.md from https://raw.githubusercontent.com/angular/angular/main/packages/compiler-cli/src/ngtsc/perf/README.md\n",
            "Successfully retrieved README.md from https://raw.githubusercontent.com/angular/angular/main/packages/compiler-cli/src/ngtsc/program_driver/README.md\n",
            "Successfully retrieved README.md from https://raw.githubusercontent.com/angular/angular/main/packages/compiler-cli/src/ngtsc/shims/README.md\n",
            "Successfully retrieved README.md from https://raw.githubusercontent.com/angular/angular/main/packages/compiler-cli/src/ngtsc/sourcemaps/README.md\n",
            "Successfully retrieved package.json from https://raw.githubusercontent.com/angular/angular/main/packages/compiler-cli/src/ngtsc/testing/fake_common/package.json\n",
            "Successfully retrieved README.md from https://raw.githubusercontent.com/angular/angular/main/packages/compiler-cli/src/ngtsc/typecheck/README.md\n",
            "Successfully retrieved README.md from https://raw.githubusercontent.com/angular/angular/main/packages/compiler-cli/test/compliance/README.md\n",
            "Successfully retrieved package.json from https://raw.githubusercontent.com/angular/angular/main/packages/compiler/package.json\n",
            "Successfully retrieved README.md from https://raw.githubusercontent.com/angular/angular/main/packages/compiler/test/render3/README.md\n",
            "Successfully retrieved package.json from https://raw.githubusercontent.com/angular/angular/main/packages/core/package.json\n",
            "Successfully retrieved README.md from https://raw.githubusercontent.com/angular/angular/main/packages/core/primitives/event-dispatch/README.md\n",
            "Successfully retrieved README.md from https://raw.githubusercontent.com/angular/angular/main/packages/core/primitives/signals/README.md\n",
            "Successfully retrieved README.md from https://raw.githubusercontent.com/angular/angular/main/packages/core/reference-manifests/README.md\n",
            "Successfully retrieved README.md from https://raw.githubusercontent.com/angular/angular/main/packages/core/schematics/migrations/http-providers/README.md\n",
            "Successfully retrieved README.md from https://raw.githubusercontent.com/angular/angular/main/packages/core/schematics/migrations/invalid-two-way-bindings/README.md\n",
            "Successfully retrieved README.md from https://raw.githubusercontent.com/angular/angular/main/packages/core/schematics/ng-generate/control-flow-migration/README.md\n",
            "Successfully retrieved README.md from https://raw.githubusercontent.com/angular/angular/main/packages/core/schematics/ng-generate/standalone-migration/README.md\n",
            "Successfully retrieved package.json from https://raw.githubusercontent.com/angular/angular/main/packages/core/schematics/package.json\n",
            "Successfully retrieved README.md from https://raw.githubusercontent.com/angular/angular/main/packages/core/test/bundling/README.md\n",
            "Successfully retrieved README.md from https://raw.githubusercontent.com/angular/angular/main/packages/core/test/bundling/cyclic_import/README.md\n",
            "Successfully retrieved README.md from https://raw.githubusercontent.com/angular/angular/main/packages/core/test/bundling/image-directive/README.md\n",
            "Successfully retrieved package.json from https://raw.githubusercontent.com/angular/angular/main/packages/elements/package.json\n",
            "Successfully retrieved README.md from https://raw.githubusercontent.com/angular/angular/main/packages/examples/README.md\n",
            "Successfully retrieved package.json from https://raw.githubusercontent.com/angular/angular/main/packages/forms/package.json\n",
            "Successfully retrieved README.md from https://raw.githubusercontent.com/angular/angular/main/packages/language-service/README.md\n",
            "Successfully retrieved package.json from https://raw.githubusercontent.com/angular/angular/main/packages/language-service/package.json\n",
            "Successfully retrieved package.json from https://raw.githubusercontent.com/angular/angular/main/packages/localize/package.json\n",
            "Successfully retrieved README.md from https://raw.githubusercontent.com/angular/angular/main/packages/localize/schematics/ng-add/README.md\n",
            "Successfully retrieved package.json from https://raw.githubusercontent.com/angular/angular/main/packages/localize/schematics/package.json\n",
            "Successfully retrieved README.md from https://raw.githubusercontent.com/angular/angular/main/packages/localize/tools/README.md\n",
            "Successfully retrieved README.md from https://raw.githubusercontent.com/angular/angular/main/packages/misc/angular-in-memory-web-api/README.md\n",
            "Successfully retrieved package.json from https://raw.githubusercontent.com/angular/angular/main/packages/misc/angular-in-memory-web-api/package.json\n",
            "Successfully retrieved package.json from https://raw.githubusercontent.com/angular/angular/main/packages/platform-browser-dynamic/package.json\n",
            "Successfully retrieved package.json from https://raw.githubusercontent.com/angular/angular/main/packages/platform-browser/package.json\n",
            "Successfully retrieved package.json from https://raw.githubusercontent.com/angular/angular/main/packages/platform-server/package.json\n",
            "Successfully retrieved README.md from https://raw.githubusercontent.com/angular/angular/main/packages/router/README.md\n",
            "Successfully retrieved package.json from https://raw.githubusercontent.com/angular/angular/main/packages/router/package.json\n",
            "Successfully retrieved package.json from https://raw.githubusercontent.com/angular/angular/main/packages/service-worker/package.json\n",
            "Successfully retrieved package.json from https://raw.githubusercontent.com/angular/angular/main/packages/upgrade/package.json\n",
            "Successfully retrieved README.md from https://raw.githubusercontent.com/angular/angular/main/packages/zone.js/README.md\n",
            "Successfully retrieved package.json from https://raw.githubusercontent.com/angular/angular/main/packages/zone.js/package.json\n",
            "Successfully retrieved package.json from https://raw.githubusercontent.com/angular/angular/main/packages/zone.js/test/typings/package.json\n",
            "Successfully retrieved README.md from https://raw.githubusercontent.com/angular/angular/main/scripts/benchmarks/README.md\n",
            "Successfully retrieved README.md from https://raw.githubusercontent.com/angular/angular/main/third_party/README.md\n",
            "Successfully retrieved README.md from https://raw.githubusercontent.com/angular/angular/main/tools/gulp-tasks/README.md\n",
            "Successfully retrieved README.md from https://raw.githubusercontent.com/angular/angular/main/tools/saucelabs-daemon/README.md\n",
            "Successfully retrieved README.md from https://raw.githubusercontent.com/angular/angular/main/tools/saucelabs/README.md\n",
            "Successfully retrieved README.md from https://raw.githubusercontent.com/angular/angular/main/tools/testing/README.md\n",
            "Successfully retrieved README.md from https://raw.githubusercontent.com/angular/angular-cli/main/.yarn/README.md\n",
            "Successfully retrieved README.md from https://raw.githubusercontent.com/angular/angular-cli/main/README.md\n",
            "Successfully retrieved README.md from https://raw.githubusercontent.com/angular/angular-cli/main/docs/README.md\n",
            "Successfully retrieved README.md from https://raw.githubusercontent.com/angular/angular-cli/main/modules/testing/builder/projects/hello-world-app/README.md\n",
            "Successfully retrieved package.json from https://raw.githubusercontent.com/angular/angular-cli/main/package.json\n",
            "Successfully retrieved README.md from https://raw.githubusercontent.com/angular/angular-cli/main/packages/README.md\n",
            "Successfully retrieved README.md from https://raw.githubusercontent.com/angular/angular-cli/main/packages/angular/build/README.md\n",
            "Successfully retrieved package.json from https://raw.githubusercontent.com/angular/angular-cli/main/packages/angular/build/package.json\n",
            "Successfully retrieved README.md from https://raw.githubusercontent.com/angular/angular-cli/main/packages/angular/cli/README.md\n",
            "Successfully retrieved package.json from https://raw.githubusercontent.com/angular/angular-cli/main/packages/angular/cli/bin/package.json\n",
            "Successfully retrieved package.json from https://raw.githubusercontent.com/angular/angular-cli/main/packages/angular/cli/package.json\n",
            "Successfully retrieved README.md from https://raw.githubusercontent.com/angular/angular-cli/main/packages/angular/create/README.md\n",
            "Successfully retrieved package.json from https://raw.githubusercontent.com/angular/angular-cli/main/packages/angular/create/package.json\n",
            "Successfully retrieved README.md from https://raw.githubusercontent.com/angular/angular-cli/main/packages/angular/pwa/README.md\n",
            "Successfully retrieved package.json from https://raw.githubusercontent.com/angular/angular-cli/main/packages/angular/pwa/package.json\n",
            "Successfully retrieved README.md from https://raw.githubusercontent.com/angular/angular-cli/main/packages/angular/ssr/README.md\n",
            "Successfully retrieved package.json from https://raw.githubusercontent.com/angular/angular-cli/main/packages/angular/ssr/package.json\n",
            "Successfully retrieved package.json from https://raw.githubusercontent.com/angular/angular-cli/main/packages/angular/ssr/schematics/package.json\n",
            "Successfully retrieved README.md from https://raw.githubusercontent.com/angular/angular-cli/main/packages/angular_devkit/architect/README.md\n",
            "Successfully retrieved package.json from https://raw.githubusercontent.com/angular/angular-cli/main/packages/angular_devkit/architect/package.json\n",
            "Successfully retrieved README.md from https://raw.githubusercontent.com/angular/angular-cli/main/packages/angular_devkit/architect/src/jobs/README.md\n",
            "Successfully retrieved README.md from https://raw.githubusercontent.com/angular/angular-cli/main/packages/angular_devkit/architect_cli/README.md\n",
            "Successfully retrieved package.json from https://raw.githubusercontent.com/angular/angular-cli/main/packages/angular_devkit/architect_cli/package.json\n",
            "Successfully retrieved README.md from https://raw.githubusercontent.com/angular/angular-cli/main/packages/angular_devkit/build_angular/README.md\n",
            "Successfully retrieved package.json from https://raw.githubusercontent.com/angular/angular-cli/main/packages/angular_devkit/build_angular/package.json\n",
            "Successfully retrieved package.json from https://raw.githubusercontent.com/angular/angular-cli/main/packages/angular_devkit/build_angular/test/hello-world-lib/projects/lib/package.json\n",
            "Successfully retrieved README.md from https://raw.githubusercontent.com/angular/angular-cli/main/packages/angular_devkit/build_webpack/README.md\n",
            "Successfully retrieved package.json from https://raw.githubusercontent.com/angular/angular-cli/main/packages/angular_devkit/build_webpack/package.json\n",
            "Successfully retrieved README.md from https://raw.githubusercontent.com/angular/angular-cli/main/packages/angular_devkit/core/README.md\n",
            "Successfully retrieved package.json from https://raw.githubusercontent.com/angular/angular-cli/main/packages/angular_devkit/core/package.json\n",
            "Successfully retrieved README.md from https://raw.githubusercontent.com/angular/angular-cli/main/packages/angular_devkit/schematics/README.md\n",
            "Successfully retrieved package.json from https://raw.githubusercontent.com/angular/angular-cli/main/packages/angular_devkit/schematics/package.json\n",
            "Successfully retrieved package.json from https://raw.githubusercontent.com/angular/angular-cli/main/packages/angular_devkit/schematics/tasks/package.json\n",
            "Successfully retrieved package.json from https://raw.githubusercontent.com/angular/angular-cli/main/packages/angular_devkit/schematics/testing/package.json\n",
            "Successfully retrieved package.json from https://raw.githubusercontent.com/angular/angular-cli/main/packages/angular_devkit/schematics/tools/package.json\n",
            "Successfully retrieved README.md from https://raw.githubusercontent.com/angular/angular-cli/main/packages/angular_devkit/schematics_cli/README.md\n",
            "Successfully retrieved README.md from https://raw.githubusercontent.com/angular/angular-cli/main/packages/angular_devkit/schematics_cli/blank/project-files/README.md\n",
            "Successfully retrieved package.json from https://raw.githubusercontent.com/angular/angular-cli/main/packages/angular_devkit/schematics_cli/blank/project-files/package.json\n",
            "Successfully retrieved package.json from https://raw.githubusercontent.com/angular/angular-cli/main/packages/angular_devkit/schematics_cli/package.json\n",
            "Successfully retrieved README.md from https://raw.githubusercontent.com/angular/angular-cli/main/packages/angular_devkit/schematics_cli/schematic/files/README.md\n",
            "Successfully retrieved package.json from https://raw.githubusercontent.com/angular/angular-cli/main/packages/angular_devkit/schematics_cli/schematic/files/package.json\n",
            "Successfully retrieved README.md from https://raw.githubusercontent.com/angular/angular-cli/main/packages/ngtools/webpack/README.md\n",
            "Successfully retrieved package.json from https://raw.githubusercontent.com/angular/angular-cli/main/packages/ngtools/webpack/package.json\n",
            "Successfully retrieved README.md from https://raw.githubusercontent.com/angular/angular-cli/main/packages/schematics/angular/README.md\n",
            "Successfully retrieved package.json from https://raw.githubusercontent.com/angular/angular-cli/main/packages/schematics/angular/package.json\n",
            "Successfully retrieved package.json from https://raw.githubusercontent.com/angular/angular-cli/main/packages/schematics/angular/utility/latest-versions/package.json\n",
            "Successfully retrieved README.md from https://raw.githubusercontent.com/angular/angular-cli/main/scripts/README.md\n",
            "Successfully retrieved README.md from https://raw.githubusercontent.com/angular/angular-cli/main/tests/README.md\n",
            "Successfully retrieved README.md from https://raw.githubusercontent.com/angular/angular-cli/main/tests/legacy-cli/e2e/assets/15.0-project/README.md\n",
            "Successfully retrieved package.json from https://raw.githubusercontent.com/angular/angular-cli/main/tests/legacy-cli/e2e/assets/15.0-project/package.json\n",
            "Successfully retrieved README.md from https://raw.githubusercontent.com/angular/angular-cli/main/tests/legacy-cli/e2e/assets/18-ssr-project-webpack/README.md\n",
            "Successfully retrieved package.json from https://raw.githubusercontent.com/angular/angular-cli/main/tests/legacy-cli/e2e/assets/18-ssr-project-webpack/package.json\n",
            "Successfully retrieved package.json from https://raw.githubusercontent.com/angular/angular-cli/main/tests/legacy-cli/e2e/assets/add-collection-peer-bad/package.json\n",
            "Successfully retrieved package.json from https://raw.githubusercontent.com/angular/angular-cli/main/tests/legacy-cli/e2e/assets/add-collection-peer-good/package.json\n",
            "Successfully retrieved package.json from https://raw.githubusercontent.com/angular/angular-cli/main/tests/legacy-cli/e2e/assets/add-collection/package.json\n",
            "Successfully retrieved package.json from https://raw.githubusercontent.com/angular/angular-cli/main/tests/legacy-cli/e2e/assets/nested-schematic-dependency/package.json\n",
            "Successfully retrieved package.json from https://raw.githubusercontent.com/angular/angular-cli/main/tests/legacy-cli/e2e/assets/nested-schematic-main/package.json\n",
            "Successfully retrieved package.json from https://raw.githubusercontent.com/angular/angular-cli/main/tests/legacy-cli/e2e/assets/schematic-allow-scripts/package.json\n",
            "Successfully retrieved package.json from https://raw.githubusercontent.com/angular/angular-cli/main/tests/legacy-cli/e2e/assets/schematic-boolean-option-negated/package.json\n",
            "Successfully retrieved package.json from https://raw.githubusercontent.com/angular/angular-cli/main/tests/legacy-cli/e2e/ng-snapshot/package.json\n",
            "Successfully retrieved README.md from https://raw.githubusercontent.com/angular/angular-cli/main/tests/schematics/update/packages/README.md\n",
            "Successfully retrieved package.json from https://raw.githubusercontent.com/angular/angular-cli/main/tests/schematics/update/packages/update-base/package.json\n",
            "Successfully retrieved package.json from https://raw.githubusercontent.com/angular/angular-cli/main/tests/schematics/update/packages/update-migrations-external/package.json\n",
            "Successfully retrieved package.json from https://raw.githubusercontent.com/angular/angular-cli/main/tests/schematics/update/packages/update-migrations/package.json\n",
            "Successfully retrieved package.json from https://raw.githubusercontent.com/angular/angular-cli/main/tests/schematics/update/packages/update-package-group-1/package.json\n",
            "Successfully retrieved package.json from https://raw.githubusercontent.com/angular/angular-cli/main/tests/schematics/update/packages/update-package-group-2/package.json\n",
            "Successfully retrieved package.json from https://raw.githubusercontent.com/angular/angular-cli/main/tests/schematics/update/packages/update-peer-dependencies-1/package.json\n",
            "Successfully retrieved package.json from https://raw.githubusercontent.com/angular/angular-cli/main/tests/schematics/update/packages/update-peer-dependencies-2/package.json\n",
            "Successfully retrieved package.json from https://raw.githubusercontent.com/angular/angular-cli/main/tests/schematics/update/packages/update-peer-dependencies-angular-5-2/package.json\n",
            "Successfully retrieved package.json from https://raw.githubusercontent.com/angular/angular-cli/main/tests/schematics/update/packages/update-peer-dependencies-angular-5/package.json\n",
            "Branch 'main' not found for repository preboot/angularjs-webpack.\n",
            "Successfully retrieved README.md from https://raw.githubusercontent.com/preboot/angularjs-webpack/master/README.md\n",
            "Successfully retrieved package.json from https://raw.githubusercontent.com/preboot/angularjs-webpack/master/package.json\n",
            "Branch 'main' not found for repository ngx-translate/core.\n",
            "Successfully retrieved README.md from https://raw.githubusercontent.com/ngx-translate/core/master/README.md\n",
            "Successfully retrieved package.json from https://raw.githubusercontent.com/ngx-translate/core/master/package.json\n",
            "Branch 'main' not found for repository tomastrajan/angular-ngrx-material-starter.\n",
            "Successfully retrieved README.md from https://raw.githubusercontent.com/tomastrajan/angular-ngrx-material-starter/master/README.md\n",
            "Successfully retrieved package.json from https://raw.githubusercontent.com/tomastrajan/angular-ngrx-material-starter/master/package.json\n",
            "Error parsing package.json: Expecting value: line 1 column 1 (char 0)\n",
            "Raw API Response:\n",
            "ChatCompletion(id='chatcmpl-9fMaSbDjdILlsk1VwAC8S8mfBSzJY', choices=[Choice(finish_reason='stop', index=0, logprobs=None, message=ChatCompletionMessage(content='Based on the context you\\'ve provided, here is a JSON configuration for a dev container that supports the Angular 12, NgRx, and Angular Material project setup:\\n\\n```json\\n{\\n  \"name\": \"Angular 12, NgRx, and Angular Material Starter\",\\n  \"dockerFile\": \"Dockerfile\",\\n  \"context\": \".\",\\n  \"customizations\": {\\n    \"vscode\": {\\n      \"extensions\": [\\n        \"angular.ng-template\",\\n        \"dbaeumer.vscode-eslint\",\\n        \"esbenp.prettier-vscode\",\\n        \"eamodio.gitlens\"\\n      ]\\n    }\\n  },\\n  \"settings\": {\\n    \"terminal.integrated.shell.linux\": \"/bin/bash\",\\n    \"editor.formatOnSave\": true\\n  },\\n  \"postCreateCommand\": \"npm install\",\\n  \"forwardPorts\": [4200],\\n  \"remoteUser\": \"node\",\\n  \"mounts\": [\\n    \"source=${localWorkspaceFolder},target=/workspace,type=bind,consistency=cached\"\\n  ],\\n  \"remoteEnv\": {\\n    \"NODE_OPTIONS\": \"--max_old_space_size=4096\"\\n  }\\n}\\n```\\n\\nAnd here is the `Dockerfile` required for setting up this dev container:\\n\\n```Dockerfile\\n# Install the latest Node.js LTS on Debian Buster\\nFROM node:14-buster\\n\\n# Set the working directory\\nWORKDIR /workspace\\n\\n# Install Angular CLI globally\\nRUN npm install -g @angular/cli@~12.2.6\\n\\n# Copy package.json and package-lock.json\\nCOPY package.json package-lock.json ./\\n\\n# Install all dependencies\\nRUN npm install\\n\\n# Copy project files\\nCOPY . .\\n\\n# Expose development server port\\nEXPOSE 4200\\n```\\n\\n### Explanation\\n- **name**: The name of the dev container.\\n- **dockerFile**: Specifies the Dockerfile to be used.\\n- **context**: Working directory context, set to the current directory.\\n- **customizations.vscode.extensions**: List of VSCode extensions useful for Angular development.\\n- **settings**: VSCode settings to be applied within the container.\\n- **postCreateCommand**: Command to run after creating the container (`npm install` in this case).\\n- **forwardPorts**: Port forwarding to make the development server accessible.\\n- **remoteUser**: User to use within the container.\\n- **mounts**: Bind the local workspace folder to the container\\'s workspace folder for code synchronization.\\n- **remoteEnv**: Environment variables for the remote container. Here we set increased memory allocation for Node.js.\\n\\nThis configuration ensures that the environment is ready for full-stack development with Angular 12, NgRx, and Angular Material.', role='assistant', function_call=None, tool_calls=None), content_filter_results={'hate': {'filtered': False, 'severity': 'safe'}, 'self_harm': {'filtered': False, 'severity': 'safe'}, 'sexual': {'filtered': False, 'severity': 'safe'}, 'violence': {'filtered': False, 'severity': 'safe'}})], created=1719645300, model='gpt-4o-2024-05-13', object='chat.completion', service_tier=None, system_fingerprint='fp_abc28019ad', usage=CompletionUsage(completion_tokens=552, prompt_tokens=10849, total_tokens=11401), prompt_filter_results=[{'prompt_index': 0, 'content_filter_results': {'hate': {'filtered': False, 'severity': 'safe'}, 'self_harm': {'filtered': False, 'severity': 'safe'}, 'sexual': {'filtered': False, 'severity': 'safe'}, 'violence': {'filtered': False, 'severity': 'safe'}}}])\n",
            "No 'data' key found in API response.\n"
          ]
        }
      ]
    }
  ],
  "metadata": {
    "colab": {
      "provenance": []
    },
    "kernelspec": {
      "display_name": "Python 3",
      "name": "python3"
    },
    "language_info": {
      "codemirror_mode": {
        "name": "ipython",
        "version": 3
      },
      "file_extension": ".py",
      "mimetype": "text/x-python",
      "name": "python",
      "nbconvert_exporter": "python",
      "pygments_lexer": "ipython3",
      "version": "3.9.7"
    }
  },
  "nbformat": 4,
  "nbformat_minor": 0
}