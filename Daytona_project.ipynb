{
  "cells": [
    {
      "cell_type": "markdown",
      "metadata": {
        "id": "99SWsKazZcxZ"
      },
      "source": [
        "Install needed libraries"
      ]
    },
    {
      "cell_type": "code",
      "execution_count": 11,
      "metadata": {
        "colab": {
          "base_uri": "https://localhost:8080/"
        },
        "id": "NUsTXAaMj4It",
        "outputId": "103f6403-bacf-4680-b279-5ea8fd32e708"
      },
      "outputs": [
        {
          "name": "stdout",
          "output_type": "stream",
          "text": [
            "Requirement already satisfied: requests in /usr/local/lib/python3.10/dist-packages (2.31.0)\n",
            "Requirement already satisfied: charset-normalizer<4,>=2 in /usr/local/lib/python3.10/dist-packages (from requests) (3.3.2)\n",
            "Requirement already satisfied: idna<4,>=2.5 in /usr/local/lib/python3.10/dist-packages (from requests) (3.7)\n",
            "Requirement already satisfied: urllib3<3,>=1.21.1 in /usr/local/lib/python3.10/dist-packages (from requests) (2.0.7)\n",
            "Requirement already satisfied: certifi>=2017.4.17 in /usr/local/lib/python3.10/dist-packages (from requests) (2024.6.2)\n",
            "Requirement already satisfied: PyGithub in /usr/local/lib/python3.10/dist-packages (2.3.0)\n",
            "Requirement already satisfied: pynacl>=1.4.0 in /usr/local/lib/python3.10/dist-packages (from PyGithub) (1.5.0)\n",
            "Requirement already satisfied: requests>=2.14.0 in /usr/local/lib/python3.10/dist-packages (from PyGithub) (2.31.0)\n",
            "Requirement already satisfied: pyjwt[crypto]>=2.4.0 in /usr/local/lib/python3.10/dist-packages (from PyGithub) (2.8.0)\n",
            "Requirement already satisfied: typing-extensions>=4.0.0 in /usr/local/lib/python3.10/dist-packages (from PyGithub) (4.12.2)\n",
            "Requirement already satisfied: urllib3>=1.26.0 in /usr/local/lib/python3.10/dist-packages (from PyGithub) (2.0.7)\n",
            "Requirement already satisfied: Deprecated in /usr/local/lib/python3.10/dist-packages (from PyGithub) (1.2.14)\n",
            "Requirement already satisfied: cryptography>=3.4.0 in /usr/local/lib/python3.10/dist-packages (from pyjwt[crypto]>=2.4.0->PyGithub) (42.0.8)\n",
            "Requirement already satisfied: cffi>=1.4.1 in /usr/local/lib/python3.10/dist-packages (from pynacl>=1.4.0->PyGithub) (1.16.0)\n",
            "Requirement already satisfied: charset-normalizer<4,>=2 in /usr/local/lib/python3.10/dist-packages (from requests>=2.14.0->PyGithub) (3.3.2)\n",
            "Requirement already satisfied: idna<4,>=2.5 in /usr/local/lib/python3.10/dist-packages (from requests>=2.14.0->PyGithub) (3.7)\n",
            "Requirement already satisfied: certifi>=2017.4.17 in /usr/local/lib/python3.10/dist-packages (from requests>=2.14.0->PyGithub) (2024.6.2)\n",
            "Requirement already satisfied: wrapt<2,>=1.10 in /usr/local/lib/python3.10/dist-packages (from Deprecated->PyGithub) (1.14.1)\n",
            "Requirement already satisfied: pycparser in /usr/local/lib/python3.10/dist-packages (from cffi>=1.4.1->pynacl>=1.4.0->PyGithub) (2.22)\n",
            "Requirement already satisfied: openai in /usr/local/lib/python3.10/dist-packages (1.34.0)\n",
            "Requirement already satisfied: anyio<5,>=3.5.0 in /usr/local/lib/python3.10/dist-packages (from openai) (3.7.1)\n",
            "Requirement already satisfied: distro<2,>=1.7.0 in /usr/lib/python3/dist-packages (from openai) (1.7.0)\n",
            "Requirement already satisfied: httpx<1,>=0.23.0 in /usr/local/lib/python3.10/dist-packages (from openai) (0.27.0)\n",
            "Requirement already satisfied: pydantic<3,>=1.9.0 in /usr/local/lib/python3.10/dist-packages (from openai) (2.7.3)\n",
            "Requirement already satisfied: sniffio in /usr/local/lib/python3.10/dist-packages (from openai) (1.3.1)\n",
            "Requirement already satisfied: tqdm>4 in /usr/local/lib/python3.10/dist-packages (from openai) (4.66.4)\n",
            "Requirement already satisfied: typing-extensions<5,>=4.7 in /usr/local/lib/python3.10/dist-packages (from openai) (4.12.2)\n",
            "Requirement already satisfied: idna>=2.8 in /usr/local/lib/python3.10/dist-packages (from anyio<5,>=3.5.0->openai) (3.7)\n",
            "Requirement already satisfied: exceptiongroup in /usr/local/lib/python3.10/dist-packages (from anyio<5,>=3.5.0->openai) (1.2.1)\n",
            "Requirement already satisfied: certifi in /usr/local/lib/python3.10/dist-packages (from httpx<1,>=0.23.0->openai) (2024.6.2)\n",
            "Requirement already satisfied: httpcore==1.* in /usr/local/lib/python3.10/dist-packages (from httpx<1,>=0.23.0->openai) (1.0.5)\n",
            "Requirement already satisfied: h11<0.15,>=0.13 in /usr/local/lib/python3.10/dist-packages (from httpcore==1.*->httpx<1,>=0.23.0->openai) (0.14.0)\n",
            "Requirement already satisfied: annotated-types>=0.4.0 in /usr/local/lib/python3.10/dist-packages (from pydantic<3,>=1.9.0->openai) (0.7.0)\n",
            "Requirement already satisfied: pydantic-core==2.18.4 in /usr/local/lib/python3.10/dist-packages (from pydantic<3,>=1.9.0->openai) (2.18.4)\n",
            "Requirement already satisfied: openai in /usr/local/lib/python3.10/dist-packages (1.34.0)\n",
            "Requirement already satisfied: anyio<5,>=3.5.0 in /usr/local/lib/python3.10/dist-packages (from openai) (3.7.1)\n",
            "Requirement already satisfied: distro<2,>=1.7.0 in /usr/lib/python3/dist-packages (from openai) (1.7.0)\n",
            "Requirement already satisfied: httpx<1,>=0.23.0 in /usr/local/lib/python3.10/dist-packages (from openai) (0.27.0)\n",
            "Requirement already satisfied: pydantic<3,>=1.9.0 in /usr/local/lib/python3.10/dist-packages (from openai) (2.7.3)\n",
            "Requirement already satisfied: sniffio in /usr/local/lib/python3.10/dist-packages (from openai) (1.3.1)\n",
            "Requirement already satisfied: tqdm>4 in /usr/local/lib/python3.10/dist-packages (from openai) (4.66.4)\n",
            "Requirement already satisfied: typing-extensions<5,>=4.7 in /usr/local/lib/python3.10/dist-packages (from openai) (4.12.2)\n",
            "Requirement already satisfied: idna>=2.8 in /usr/local/lib/python3.10/dist-packages (from anyio<5,>=3.5.0->openai) (3.7)\n",
            "Requirement already satisfied: exceptiongroup in /usr/local/lib/python3.10/dist-packages (from anyio<5,>=3.5.0->openai) (1.2.1)\n",
            "Requirement already satisfied: certifi in /usr/local/lib/python3.10/dist-packages (from httpx<1,>=0.23.0->openai) (2024.6.2)\n",
            "Requirement already satisfied: httpcore==1.* in /usr/local/lib/python3.10/dist-packages (from httpx<1,>=0.23.0->openai) (1.0.5)\n",
            "Requirement already satisfied: h11<0.15,>=0.13 in /usr/local/lib/python3.10/dist-packages (from httpcore==1.*->httpx<1,>=0.23.0->openai) (0.14.0)\n",
            "Requirement already satisfied: annotated-types>=0.4.0 in /usr/local/lib/python3.10/dist-packages (from pydantic<3,>=1.9.0->openai) (0.7.0)\n",
            "Requirement already satisfied: pydantic-core==2.18.4 in /usr/local/lib/python3.10/dist-packages (from pydantic<3,>=1.9.0->openai) (2.18.4)\n"
          ]
        }
      ],
      "source": [
        "!pip install requests\n",
        "!pip install PyGithub\n",
        "!pip install openai\n",
        "!pip install --upgrade openai"
      ]
    },
    {
      "cell_type": "markdown",
      "metadata": {
        "id": "m9EtvGvDj16g"
      },
      "source": [
        "Imports"
      ]
    },
    {
      "cell_type": "code",
      "execution_count": 69,
      "metadata": {
        "id": "ztCe4NgXj6On"
      },
      "outputs": [],
      "source": [
        "from github import Github\n",
        "from openai import OpenAI\n",
        "import json\n",
        "import requests\n",
        "import re"
      ]
    },
    {
      "cell_type": "markdown",
      "metadata": {
        "id": "jvvDeh4pjxXJ"
      },
      "source": [
        "Function to check if input is already a GitHub repo"
      ]
    },
    {
      "cell_type": "code",
      "execution_count": 48,
      "metadata": {
        "id": "XSMxuFSCbBBJ"
      },
      "outputs": [],
      "source": [
        "def is_github_repo_link(env):\n",
        "    return env.startswith(\"https://github.com/\") or env.startswith(\"http://github.com/\")"
      ]
    },
    {
      "cell_type": "markdown",
      "metadata": {
        "id": "vXke2spCavGG"
      },
      "source": [
        "Prompt for user"
      ]
    },
    {
      "cell_type": "code",
      "execution_count": 49,
      "metadata": {
        "colab": {
          "base_uri": "https://localhost:8080/"
        },
        "id": "59Z2rh5mZfRE",
        "outputId": "7ef22307-13fb-432a-eef6-d59393efe10f"
      },
      "outputs": [
        {
          "name": "stdout",
          "output_type": "stream",
          "text": [
            "Enter a name of the environment or link to GitHub repo: React\n"
          ]
        }
      ],
      "source": [
        "prompt = input(\"Enter a name of the environment or link to GitHub repo: \")\n",
        "flag = True\n",
        "if is_github_repo_link(prompt) == False:\n",
        "   flag = False"
      ]
    },
    {
      "cell_type": "markdown",
      "metadata": {
        "id": "f0EL_NkliqeI"
      },
      "source": [
        "Function for searching GitHub repositories"
      ]
    },
    {
      "cell_type": "code",
      "execution_count": 63,
      "metadata": {
        "id": "7w02ek88i7SN"
      },
      "outputs": [],
      "source": [
        "def retrieve_files(repo_urls):\n",
        "    file_names = ['README.md', 'install.md', 'package.json']\n",
        "    branches = ['main', 'master', 'develop']\n",
        "    additional_paths = ['', 'docs/', 'src/']\n",
        "    files_content = {file_name: [] for file_name in file_names}\n",
        "\n",
        "    for url in repo_urls:\n",
        "        if url.endswith('.git'):\n",
        "            trimmed_url = url[:-4]\n",
        "        else:\n",
        "            trimmed_url = url\n",
        "\n",
        "        file_found = {file_name: False for file_name in file_names}\n",
        "\n",
        "        for branch in branches:\n",
        "            for additional_path in additional_paths:\n",
        "                for file_name in file_names:\n",
        "                    if not file_found[file_name]:\n",
        "                        file_url = f\"{trimmed_url.rstrip('/')}/raw/{branch}/{additional_path}{file_name}\"\n",
        "                        try:\n",
        "                            response = requests.get(file_url)\n",
        "                            if response.status_code == 200:\n",
        "                                files_content[file_name].append(response.text)\n",
        "                                file_found[file_name] = True\n",
        "                                print(f\"Successfully retrieved {file_name} from {file_url}\")\n",
        "                            else:\n",
        "                                print(f\"Failed to retrieve {file_name} for {url} on branch {branch} at path {additional_path}. Status code: {response.status_code}\")\n",
        "                        except requests.exceptions.RequestException as e:\n",
        "                            print(f\"Error while trying to get {file_name} for {url} on branch {branch} at path {additional_path}: {e}\")\n",
        "\n",
        "    return files_content"
      ]
    },
    {
      "cell_type": "markdown",
      "metadata": {
        "id": "aqNtexJlrsAC"
      },
      "source": [
        "OpenAI API for getting repositories"
      ]
    },
    {
      "cell_type": "code",
      "execution_count": 27,
      "metadata": {
        "id": "6JLbTX8SrvO0"
      },
      "outputs": [],
      "source": [
        "client = OpenAI(\n",
        "    #implement env key\n",
        "    api_key = \"\"\n",
        ")\n",
        "def generate_github_repos(prompt, model=\"gpt-3.5-turbo\"):\n",
        "    system_prompt = \"You are an AI assistant that suggests relevant GitHub repositories based on a project description.\"\n",
        "    user_prompt = f\"Suggest GitHub repositories for a project that involves the following technologies: {prompt}. Provide only the URLs of the repositories.\"\n",
        "\n",
        "    response = client.chat.completions.create(\n",
        "        model=model,\n",
        "        messages=[\n",
        "            {\"role\": \"system\", \"content\": system_prompt},\n",
        "            {\"role\": \"user\", \"content\": user_prompt}\n",
        "        ]\n",
        "    )\n",
        "\n",
        "    suggested_repos = response.choices[0].message.content.strip()\n",
        "    repo_urls = re.findall(r'(https?://github\\.com/[^\\s]+)', suggested_repos)\n",
        "\n",
        "    return repo_urls"
      ]
    },
    {
      "cell_type": "markdown",
      "metadata": {
        "id": "1OnKaxF7X4fe"
      },
      "source": [
        "Analyze and pre-process the data"
      ]
    },
    {
      "cell_type": "code",
      "execution_count": 73,
      "metadata": {
        "id": "rw0PzSofrwpL"
      },
      "outputs": [],
      "source": [
        "def parse_readme(content):\n",
        "    sections = {}\n",
        "    current_section = None\n",
        "    lines = content.split('\\n')\n",
        "\n",
        "    for line in lines:\n",
        "        header_match = re.match(r'^(#+)\\s+(.*)', line)\n",
        "        if header_match:\n",
        "            level = len(header_match.group(1))\n",
        "            section_name = header_match.group(2).strip()\n",
        "            current_section = section_name\n",
        "            sections[current_section] = []\n",
        "        elif current_section:\n",
        "            sections[current_section].append(line)\n",
        "\n",
        "    for section in sections:\n",
        "        sections[section] = \"\\n\".join(sections[section])\n",
        "\n",
        "    return sections"
      ]
    },
    {
      "cell_type": "code",
      "execution_count": 74,
      "metadata": {
        "id": "bbzs3gu2tHcG"
      },
      "outputs": [],
      "source": [
        "def parse_package_json(content):\n",
        "    try:\n",
        "        package_data = json.loads(content)\n",
        "        return {\n",
        "            \"dependencies\": package_data.get(\"dependencies\", {}),\n",
        "            \"devDependencies\": package_data.get(\"devDependencies\", {}),\n",
        "            \"scripts\": package_data.get(\"scripts\", {})\n",
        "        }\n",
        "    except json.JSONDecodeError as e:\n",
        "        print(f\"Error parsing package.json: {e}\")\n",
        "        return {}"
      ]
    },
    {
      "cell_type": "code",
      "execution_count": 75,
      "metadata": {
        "id": "qvL53TGvtLjH"
      },
      "outputs": [],
      "source": [
        "def collect_context(files_content):\n",
        "    context = {}\n",
        "\n",
        "    for file_name, contents in files_content.items():\n",
        "        if file_name == 'README.md':\n",
        "            for content in contents:\n",
        "                context[file_name] = parse_readme(content)\n",
        "        elif file_name == 'package.json':\n",
        "            for content in contents:\n",
        "                context[file_name] = parse_package_json(content)\n",
        "\n",
        "    return context"
      ]
    },
    {
      "cell_type": "markdown",
      "metadata": {
        "id": "8b7IEDS64vbc"
      },
      "source": [
        "Validation of output, this is just for us to see how is data being processed"
      ]
    },
    {
      "cell_type": "code",
      "execution_count": 88,
      "metadata": {
        "colab": {
          "base_uri": "https://localhost:8080/"
        },
        "id": "c61ngjPXyyeD",
        "outputId": "b6a3702a-e500-46f8-8a9c-b02284d50094"
      },
      "outputs": [
        {
          "name": "stdout",
          "output_type": "stream",
          "text": [
            "Dependencies: {'@googleapis/sheets': '^5.0.5', '@slack/bolt': '^3.17.1', '@netlify/functions': '^2.6.0', 'execa': '^8.0.1', 'google-auth-library': '^9.7.0'}\n",
            "Dev Dependencies: {'@argos-ci/core': '^1.5.5', '@babel/cli': '^7.23.9', '@babel/core': '^7.23.9', '@babel/node': '^7.23.9', '@babel/plugin-proposal-class-properties': '^7.18.6', '@babel/plugin-proposal-object-rest-spread': '^7.20.7', '@babel/plugin-proposal-private-methods': '^7.18.6', '@babel/plugin-proposal-private-property-in-object': '^7.21.11', '@babel/plugin-transform-object-assign': '^7.23.3', '@babel/plugin-transform-react-constant-elements': '^7.23.3', '@babel/plugin-transform-runtime': '^7.23.9', '@babel/preset-env': '^7.23.9', '@babel/preset-react': '^7.23.3', '@babel/preset-typescript': '^7.23.3', '@babel/register': '^7.23.7', '@mnajdova/enzyme-adapter-react-18': '^0.2.0', '@mui/internal-docs-utils': 'workspace:^', '@mui/internal-scripts': 'workspace:^', '@mui-internal/api-docs-builder': 'workspace:^', '@mui-internal/api-docs-builder-core': 'workspace:^', '@mui-internal/test-utils': 'workspace:^', '@mui/joy': 'workspace:*', '@mui/material': 'workspace:^', '@mui/utils': 'workspace:^', '@pigment-css/react': 'workspace:^', '@next/eslint-plugin-next': '^14.1.3', '@octokit/rest': '^20.0.2', '@playwright/test': '1.42.1', '@types/enzyme': '^3.10.18', '@types/fs-extra': '^11.0.4', '@types/lodash': '^4.17.0', '@types/mocha': '^10.0.6', '@types/node': '^18.19.25', '@types/prettier': '^2.7.3', '@types/react': '^18.2.55', '@types/yargs': '^17.0.32', '@typescript-eslint/eslint-plugin': '^6.19.1', '@typescript-eslint/parser': '^6.19.1', 'babel-loader': '^9.1.3', 'babel-plugin-istanbul': '^6.1.1', 'babel-plugin-macros': '^3.1.0', 'babel-plugin-module-resolver': '^5.0.0', 'babel-plugin-optimize-clsx': '^2.6.2', 'babel-plugin-react-remove-properties': '^0.3.0', 'babel-plugin-transform-react-remove-prop-types': '^0.4.24', 'chalk': '^5.3.0', 'compression-webpack-plugin': '^11.1.0', 'concurrently': '^8.2.2', 'cpy-cli': '^5.0.0', 'cross-env': '^7.0.3', 'danger': '^11.3.1', 'enzyme': '^3.11.0', 'eslint': '^8.56.0', 'eslint-config-airbnb': '^19.0.4', 'eslint-config-airbnb-base': '^15.0.0', 'eslint-config-airbnb-typescript': '^17.1.0', 'eslint-config-prettier': '^9.1.0', 'eslint-import-resolver-webpack': '^0.13.8', 'eslint-plugin-babel': '^5.3.1', 'eslint-plugin-filenames': '^1.3.2', 'eslint-plugin-import': '^2.29.1', 'eslint-plugin-jsx-a11y': '^6.7.1', 'eslint-plugin-material-ui': 'workspace:^', 'eslint-plugin-mocha': '^10.4.1', 'eslint-plugin-react': '^7.34.1', 'eslint-plugin-react-hooks': '^4.6.0', 'fast-glob': '^3.3.2', 'fs-extra': '^11.2.0', 'globby': '^14.0.1', 'karma': '^6.4.3', 'karma-browserstack-launcher': '~1.6.0', 'karma-chrome-launcher': '^3.2.0', 'karma-coverage-istanbul-reporter': '^3.0.3', 'karma-firefox-launcher': '^2.1.3', 'karma-mocha': '^2.0.1', 'karma-sourcemap-loader': '^0.4.0', 'karma-webpack': '^5.0.0', 'lerna': '^8.1.2', 'lodash': '^4.17.21', 'markdownlint-cli2': '^0.12.1', 'mocha': '^10.3.0', 'nx': '^17.3.2', 'nyc': '^15.1.0', 'piscina': '^4.4.0', 'postcss-styled-syntax': '^0.6.4', 'prettier': '^3.2.5', 'pretty-quick': '^4.0.0', 'process': '^0.11.10', 'raw-loader': '4.0.2', 'rimraf': '^5.0.5', 'serve': '^14.2.1', 'stylelint': '^15.11.0', 'stylelint-config-standard': '^34.0.0', 'stylelint-processor-styled-components': '^1.10.0', 'terser-webpack-plugin': '^5.3.10', 'tsup': '^8.0.2', 'tsx': '^4.7.1', 'typescript': '^5.3.3', 'webpack': '^5.90.3', 'webpack-bundle-analyzer': '^4.10.1', 'webpack-cli': '^5.1.4', 'yargs': '^17.7.2'}\n",
            "Scripts: {'preinstall': 'npx only-allow pnpm', 'proptypes': 'tsx ./scripts/generateProptypes.ts', 'deduplicate': 'pnpm dedupe', 'benchmark:browser': 'pnpm --filter benchmark browser', 'build': 'lerna run build --ignore docs', 'build:public': 'lerna run --no-private build', 'build:ci': 'lerna run build --ignore docs --concurrency 8 --skip-nx-cache', 'build:zero': 'lerna run --scope \"@pigmentcss/*\" build', 'clean:zero': 'pnpm --filter \"@pigmentcss/*\" clean', 'build:codesandbox': 'NODE_OPTIONS=\"--max_old_space_size=4096\" lerna run --concurrency 8 --scope \"@mui/*\" --scope \"@mui-internal/*\" --no-private build', 'release:version': 'lerna version --no-changelog --no-push --no-git-tag-version --no-private --force-publish=@mui/core-downloads-tracker', 'release:build': 'lerna run --concurrency 8 --no-private build --skip-nx-cache', 'release:changelog': 'node scripts/releaseChangelog.mjs', 'release:publish': 'pnpm publish --recursive --tag latest', 'release:publish:dry-run': 'pnpm publish --recursive --tag latest --registry=\"http://localhost:4873/\"', 'release:tag': 'node scripts/releaseTag.mjs', 'docs:api': 'rimraf --glob ./docs/pages/**/api-docs ./docs/pages/**/api && pnpm docs:api:build', 'docs:api:build': 'tsx ./scripts/buidApiDocs/index.ts', 'docs:build': 'pnpm --filter docs build', 'docs:build-sw': 'pnpm --filter docs build-sw', 'docs:build-color-preview': 'babel-node scripts/buildColorTypes', 'docs:deploy': 'pnpm --filter docs run deploy', 'docs:dev': 'pnpm --filter docs dev', 'docs:icons': 'pnpm --filter docs icons', 'docs:size-why': 'cross-env DOCS_STATS_ENABLED=true pnpm docs:build', 'docs:start': 'pnpm --filter docs start', 'docs:create-playground': 'pnpm --filter docs create-playground', 'docs:i18n': 'cross-env BABEL_ENV=development babel-node --extensions \".tsx,.ts,.js\" ./docs/scripts/i18n.ts', 'docs:link-check': 'pnpm --filter docs link-check', 'docs:typescript': 'pnpm docs:typescript:formatted --watch', 'docs:typescript:check': 'pnpm --filter docs typescript', 'docs:typescript:formatted': 'tsx ./docs/scripts/formattedTSDemos', 'docs:mdicons:synonyms': 'cross-env BABEL_ENV=development babel-node --extensions \".tsx,.ts,.js,.mjs\" ./docs/scripts/updateIconSynonyms && pnpm prettier', 'docs:zipRules': 'cd docs && rm mui-vale.zip && zip -r mui-vale.zip mui-vale && cd ../ && vale sync', 'extract-error-codes': 'cross-env MUI_EXTRACT_ERROR_CODES=true lerna run --concurrency 8 build:modern', 'rsc:build': 'tsx ./packages/rsc-builder/buildRsc.ts', 'template:screenshot': 'cross-env BABEL_ENV=development babel-node --extensions \".tsx,.ts,.js\" ./docs/scripts/generateTemplateScreenshots', 'install:codesandbox': 'pnpm install --no-frozen-lockfile', 'jsonlint': 'node ./scripts/jsonlint.mjs', 'eslint': 'eslint . --cache --report-unused-disable-directives --ext .js,.ts,.tsx --max-warnings 0', 'eslint:ci': 'eslint . --report-unused-disable-directives --ext .js,.ts,.tsx --max-warnings 0', 'stylelint': 'stylelint --reportInvalidScopeDisables --reportNeedlessDisables \"docs/**/*.{js,ts,tsx}\"', 'markdownlint': 'markdownlint-cli2 \"**/*.md\"', 'valelint': 'git ls-files | grep -h \".md$\" | xargs vale --filter=\\'.Level==\"error\"\\'', 'prettier': 'pretty-quick --ignore-path .eslintignore', 'prettier:all': 'prettier --write . --ignore-path .eslintignore', 'size:snapshot': 'node --max-old-space-size=4096 ./scripts/sizeSnapshot/create', 'size:why': 'pnpm size:snapshot --analyze', 'start': 'pnpm install && pnpm docs:dev', 'test': 'node scripts/test.mjs', 'tc': 'node test/cli.js', 'test:extended': 'pnpm eslint && pnpm typescript && pnpm test:coverage', 'test:pigment-css-react:ci': 'pnpm nx run @pigment-css/react:test:ci', 'test:coverage': \"cross-env NODE_ENV=test BABEL_ENV=coverage nyc --reporter=text mocha 'packages/**/*.test.{js,ts,tsx}' 'docs/**/*.test.{js,ts,tsx}' --exclude 'packages/pigment-css-react/**/*.test.{js,ts,tsx}' && pnpm test:pigment-css-react\", 'test:coverage:ci': \"cross-env NODE_ENV=test BABEL_ENV=coverage nyc --reporter=lcov mocha 'packages/**/*.test.{js,ts,tsx}' 'docs/**/*.test.{js,ts,tsx}' --exclude 'packages/pigment-css-react/**/*.test.{js,ts,tsx}' && pnpm test:pigment-css-react:ci\", 'test:coverage:html': \"cross-env NODE_ENV=test BABEL_ENV=coverage nyc --reporter=html mocha 'packages/**/*.test.{js,ts,tsx}' 'docs/**/*.test.{js,ts,tsx}'\", 'test:e2e': 'cross-env NODE_ENV=production pnpm test:e2e:build && concurrently --success first --kill-others \"pnpm test:e2e:run\" \"pnpm test:e2e:server\"', 'test:e2e:build': 'webpack --config test/e2e/webpack.config.js', 'test:e2e:dev': 'concurrently \"pnpm test:e2e:build --watch\" \"pnpm test:e2e:server\"', 'test:e2e:run': \"mocha --config test/e2e/.mocharc.js 'test/e2e/**/*.test.{js,ts,tsx}'\", 'test:e2e:server': 'serve test/e2e -p 5001', 'test:e2e-website': 'playwright test test/e2e-website --config test/e2e-website/playwright.config.ts', 'test:e2e-website:dev': 'cross-env PLAYWRIGHT_TEST_BASE_URL=http://localhost:3000 playwright test test/e2e-website --config test/e2e-website/playwright.config.ts', 'test:karma': 'cross-env NODE_ENV=test karma start test/karma.conf.js', 'test:karma:profile': 'cross-env NODE_ENV=test karma start test/karma.conf.profile.js', 'test:regressions': 'cross-env NODE_ENV=production pnpm test:regressions:build && concurrently --success first --kill-others \"pnpm test:regressions:run\" \"pnpm test:regressions:server\"', 'test:regressions:build': 'webpack --config test/regressions/webpack.config.js', 'test:regressions:dev': 'concurrently \"pnpm test:regressions:build --watch\" \"pnpm test:regressions:server\"', 'test:regressions:run': \"mocha --config test/regressions/.mocharc.js --delay 'test/regressions/**/*.test.js'\", 'test:regressions:server': 'serve test/regressions -p 5001', 'test:umd': 'node packages/mui-material/test/umd/run.js', 'test:unit': \"cross-env NODE_ENV=test mocha 'packages/**/*.test.{js,ts,tsx}' 'docs/**/*.test.{js,ts,tsx}'\", 'test:argos': 'node ./scripts/pushArgos.mjs', 'typescript': 'lerna run --no-bail --parallel typescript', 'typescript:ci': 'lerna run --concurrency 3 --no-bail --no-sort typescript', 'validate-declarations': 'tsx scripts/validateTypescriptDeclarations.mts', 'generate-codeowners': 'node scripts/generateCodeowners.mjs', 'watch:zero': 'nx run-many -t watch --projects=\"@pigmentcss/*\" --parallel'}\n"
          ]
        }
      ],
      "source": [
        "#context is underlined beacuse it's defined below, in main code section, but that doesn't matter since this is jupyter notebook\n",
        "if 'package.json' in context:\n",
        "    package_info = context['package.json']\n",
        "    dependencies = package_info.get('dependencies', {})\n",
        "    dev_dependencies = package_info.get('devDependencies', {})\n",
        "    scripts = package_info.get('scripts', {})\n",
        "\n",
        "    print(\"Dependencies:\", dependencies)\n",
        "    print(\"Dev Dependencies:\", dev_dependencies)\n",
        "    print(\"Scripts:\", scripts)\n",
        "else:\n",
        "    print(\"No 'package.json' found in context.\")"
      ]
    },
    {
      "cell_type": "code",
      "execution_count": 87,
      "metadata": {
        "colab": {
          "base_uri": "https://localhost:8080/"
        },
        "id": "4c4jHad3y__n",
        "outputId": "4979bfe1-4076-4787-b748-d060c648924f"
      },
      "outputs": [
        {
          "name": "stdout",
          "output_type": "stream",
          "text": [
            "Section: Documentation\n",
            "\n",
            "\n",
            "Section: Material UI\n",
            "\n",
            "Visit [https://mui.com/material-ui/](https://mui.com/material-ui/) to view the full documentation.\n",
            "\n",
            "<details>\n",
            "  <summary>Older versions</summary>\n",
            "\n",
            "- **[v4.x](https://v4.mui.com/)** ([Migration from v4 to v5](https://mui.com/material-ui/migration/migration-v4/))\n",
            "- **[v3.x](https://v3.mui.com/)** ([Migration from v3 to v4](https://mui.com/material-ui/migration/migration-v3/))\n",
            "- **[v0.x](https://v0.mui.com/)** ([Migration to v1](https://mui.com/material-ui/migration/migration-v0x/))\n",
            "\n",
            "</details>\n",
            "\n",
            "**Note:** `@next` only points to pre-releases.\n",
            "Use `@latest` for the latest stable release.\n",
            "\n",
            "\n",
            "Section: Joy UI\n",
            "\n",
            "Visit [https://mui.com/joy-ui/getting-started/](https://mui.com/joy-ui/getting-started/) to view the full documentation.\n",
            "\n",
            "**Note**: Joy UI is still in beta.\n",
            "We are adding new components regularly and you're welcome to contribute!\n",
            "\n",
            "\n",
            "Section: Base UI\n",
            "\n",
            "Visit [https://mui.com/base-ui/](https://mui.com/base-ui/) to view the full documentation.\n",
            "\n",
            "**Note**: Base UI is still in beta.\n",
            "We are adding new components regularly and you're welcome to contribute!\n",
            "\n",
            "\n",
            "Section: MUI System\n",
            "\n",
            "Visit [https://mui.com/system/getting-started/](https://mui.com/system/getting-started/) to view the full documentation.\n",
            "\n",
            "\n",
            "Section: Sponsors\n",
            "\n",
            "\n",
            "Section: Diamond 💎\n",
            "\n",
            "<p>\n",
            "  <a href=\"https://octopus.com/?utm_source=MUI&utm_medium=referral&utm_content=readme\" rel=\"noopener sponsored\" target=\"_blank\"><img height=\"128\" width=\"128\" src=\"https://mui.com/static/sponsors/octopus-square.svg\" alt=\"octopus\" title=\"Repeatable, reliable deployments\" loading=\"lazy\" /></a>\n",
            "  <a href=\"https://www.doit.com/?utm_source=MUI&utm_medium=referral&utm_content=readme\" rel=\"noopener sponsored\" target=\"_blank\"><img height=\"128\" width=\"128\" src=\"https://mui.com/static/sponsors/doit-square.svg\" alt=\"doit\" title=\"Management Platform for Google Cloud and AWS\" loading=\"lazy\" /></a>\n",
            "<a href=\"https://www.marblism.com/?utm_source=mui\" rel=\"noopener sponsored\" target=\"_blank\"><img height=\"128\" width=\"128\" src=\"https://mui.com/static/sponsors/marblism-square.svg\" alt=\"marblism\" title=\"AI web app generation\" loading=\"lazy\" /></a>\n",
            "</p>\n",
            "\n",
            "Diamond sponsors are those who have pledged \\$1,500/month or more to MUI.\n",
            "\n",
            "\n",
            "Section: Gold 🏆\n",
            "\n",
            "via [Open Collective](https://opencollective.com/mui-org) or via [Patreon](https://www.patreon.com/oliviertassinari)\n",
            "\n",
            "<p>\n",
            "  <a href=\"https://tidelift.com/subscription/pkg/npm-material-ui?utm_source=npm-material-ui&utm_medium=referral&utm_campaign=homepage\" rel=\"noopener sponsored\" target=\"_blank\"><img height=\"96\" width=\"96\" src=\"https://avatars.githubusercontent.com/u/30204434?s=288\" alt=\"tidelift.com\" title=\"Tidelift: Enterprise-ready open-source software.\" loading=\"lazy\" /></a>\n",
            "  <a href=\"https://open.spotify.com/?utm_source=MUI&utm_medium=referral&utm_content=readme\" rel=\"noopener sponsored\" target=\"_blank\"><img height=\"96\" width=\"96\" src=\"https://avatars.githubusercontent.com/u/251374?s=288\" alt=\"Spotify\" title=\"Spotify: Music service for accessing millions of songs.\" loading=\"lazy\" /></a>\n",
            "  <a href=\"https://icons8.com?utm_source=MUI&utm_medium=referral&utm_content=readme\" rel=\"noopener sponsored\" target=\"_blank\"><img height=\"96\" width=\"96\" src=\"https://images.opencollective.com/icons8/7fa1641/logo/288.png\" alt=\"Icons8\" title=\"Icons8: API for icons, photos, illustrations, and music.\" loading=\"lazy\"></a>\n",
            "  <a href=\"https://rxdb.info/?utm_source=sponsor&utm_medium=opencollective&utm_campaign=opencollective-mui\" rel=\"noopener sponsored\" target=\"_blank\"><img height=\"96\" width=\"96\" src=\"https://rxdb.info/files/logo/logo_text.svg\" alt=\"RxDB\" title=\"RxDB: Local-first JavaScript database.\" loading=\"lazy\" /></a>\n",
            "  <a href=\"https://www.text-em-all.com/?utm_source=MUI&utm_medium=referral&utm_content=readme\" rel=\"noopener sponsored\" target=\"_blank\"><img src=\"https://avatars.githubusercontent.com/u/1262264?s=288\" alt=\"text-em-all.com\" title=\"Text-em-all: Mass text messaging and automated calling.\" height=\"96\" width=\"96\" loading=\"lazy\"></a>\n",
            "  <a href=\"https://megafamous.com/?utm_source=MUI&utm_medium=referral&utm_content=readme\" rel=\"noopener sponsored\" target=\"_blank\"><img height=\"96\" width=\"96\" src=\"https://mui.com/static/sponsors/megafamous.png\" alt=\"megafamous.com\" title=\"MegaFamous: Buy Instagram followers and likes.\" loading=\"lazy\" /></a>\n",
            "  <a href=\"https://www.dialmycalls.com/?utm_source=MUI&utm_medium=referral&utm_content=readme\" rel=\"noopener sponsored\" target=\"_blank\"><img height=\"96\" width=\"96\" src=\"https://images.opencollective.com/dialmycalls/f5ae9ab/avatar/288.png\" alt=\"dialmycalls.com\" title=\"DialMyCalls: Send text messages, calls, and emails.\" loading=\"lazy\" /></a>\n",
            "  <a href=\"https://goread.io/?utm_source=MUI&utm_medium=referral&utm_content=readme\" rel=\"noopener sponsored\" target=\"_blank\"><img height=\"96\" width=\"96\" src=\"https://images.opencollective.com/goread_io/eb6337d/logo/288.png\" alt=\"goread.io\" title=\"Goread.io: Instagram followers, likes, views, and comments.\" loading=\"lazy\" /></a>\n",
            "</p>\n",
            "\n",
            "Gold sponsors are those who have pledged \\$500/month or more to MUI.\n",
            "\n",
            "\n",
            "Section: More backers\n",
            "\n",
            "See the full list of [our backers](https://mui.com/material-ui/discover-more/backers/).\n",
            "\n",
            "\n",
            "Section: Questions\n",
            "\n",
            "For how-to questions that don't involve making changes to the code base, please use [Stack Overflow](https://stackoverflow.com/questions/) instead of GitHub issues.\n",
            "\n",
            "\n",
            "Section: Examples\n",
            "\n",
            "Our documentation features [a collection of example projects](https://github.com/mui/material-ui/tree/master/examples).\n",
            "\n",
            "\n",
            "Section: Premium templates\n",
            "\n",
            "You can find complete templates and themes in the [MUI Store](https://mui.com/store/?utm_source=docs&utm_medium=referral&utm_campaign=readme-store).\n",
            "\n",
            "\n",
            "Section: Contributing\n",
            "\n",
            "Read the [contributing guide](/CONTRIBUTING.md) to learn about our development process, how to propose bug fixes and improvements, and how to build and test your changes.\n",
            "\n",
            "Contributing is about more than just issues and pull requests!\n",
            "There are many other ways to [support Material UI](https://mui.com/material-ui/getting-started/faq/#mui-is-awesome-how-can-i-support-the-project) beyond contributing to the code base.\n",
            "\n",
            "\n",
            "Section: Changelog\n",
            "\n",
            "The [changelog](https://github.com/mui/material-ui/releases) is regularly updated to reflect what's changed in each new release.\n",
            "\n",
            "\n",
            "Section: Roadmap\n",
            "\n",
            "Future plans and high-priority features and enhancements can be found in the [roadmap](https://mui.com/material-ui/discover-more/roadmap/).\n",
            "\n",
            "\n",
            "Section: License\n",
            "\n",
            "This project is licensed under the terms of the\n",
            "[MIT license](/LICENSE).\n",
            "\n",
            "\n",
            "Section: Security\n",
            "\n",
            "For details of supported versions and contact details for reporting security issues, please refer to the [security policy](https://github.com/mui/material-ui/security/policy).\n",
            "\n",
            "\n",
            "Section: Sponsoring services\n",
            "\n",
            "These great services sponsor MUI's core infrastructure:\n",
            "\n",
            "<div>\n",
            "<picture>\n",
            "  <source media=\"(prefers-color-scheme: dark)\" srcset=\"https://mui.com/static/readme/github-darkmode.svg\">\n",
            "  <source media=\"(prefers-color-scheme: light)\" srcset=\"https://mui.com/static/readme/github-lightmode.svg\">\n",
            "  <img alt=\"GitHub logo\" src=\"https://mui.com/static/readme/github-lightmode.svg\" width=\"80\" height=\"43\">\n",
            "</picture>\n",
            "\n",
            "[GitHub](https://github.com/) lets us host the Git repository and coordinate contributions.\n",
            "\n",
            "</div>\n",
            "\n",
            "<div>\n",
            "<picture>\n",
            "  <source media=\"(prefers-color-scheme: dark)\" srcset=\"https://mui.com/static/readme/netlify-darkmode.svg\">\n",
            "  <source media=\"(prefers-color-scheme: light)\" srcset=\"https://mui.com/static/readme/netlify-lightmode.svg\">\n",
            "  <img alt=\"Netlify logo\" src=\"https://mui.com/static/readme/netlify-lightmode.svg\" width=\"100\" height=\"27\">\n",
            "</picture>\n",
            "\n",
            "[Netlify](https://www.netlify.com/) lets us distribute the documentation.\n",
            "\n",
            "</div>\n",
            "\n",
            "<div>\n",
            "<picture>\n",
            "  <source media=\"(prefers-color-scheme: dark)\" srcset=\"https://mui.com/static/readme/browserstack-darkmode.svg\">\n",
            "  <source media=\"(prefers-color-scheme: light)\" srcset=\"https://mui.com/static/readme/browserstack-lightmode.svg\">\n",
            "  <img alt=\"BrowserStack logo\" src=\"https://mui.com/static/readme/browserstack-lightmode.svg\" width=\"140\" height=\"25\">\n",
            "</picture>\n",
            "\n",
            "[BrowserStack](https://www.browserstack.com/) lets us test in real browsers.\n",
            "\n",
            "</div>\n",
            "\n",
            "<div>\n",
            "<img loading=\"lazy\" alt=\"CodeCov logo\" src=\"https://avatars.githubusercontent.com/u/8226205?s=105\" width=\"35\" height=\"35\">\n",
            "\n",
            "[CodeCov](https://about.codecov.io/) lets us monitor test coverage.\n",
            "\n",
            "</div>\n",
            "\n",
            "\n"
          ]
        }
      ],
      "source": [
        "#context is underlined beacuse it's defined below, in main code section, but that doesn't matter since this is jupyter notebook\n",
        "if 'README.md' in context:\n",
        "    readme_info = context['README.md']\n",
        "\n",
        "    for section_name, section_content in readme_info.items():\n",
        "        print(f\"Section: {section_name}\")\n",
        "        print(section_content)\n",
        "        print()\n",
        "else:\n",
        "    print(\"No 'README.md' found in context.\")"
      ]
    },
    {
      "cell_type": "markdown",
      "metadata": {
        "id": "n8sQjtEG1WSh"
      },
      "source": [
        "Generate JSON file for Dev Container with OpenAI API"
      ]
    },
    {
      "cell_type": "code",
      "execution_count": 95,
      "metadata": {
        "id": "R15es83F1cLG"
      },
      "outputs": [],
      "source": [
        "#Not working yet\n",
        "client = OpenAI(\n",
        "    #implement env key\n",
        "    api_key = \"\"\n",
        ")\n",
        "def generate_dev_container_json(context, model=\"gpt-3.5-turbo\"):\n",
        "    system_prompt = \"You are an AI assistant that creates JSON file for dev container.\\n\\n\"\n",
        "    user_prompt = f\"Generate JSON configuration for dev container based on the context provided: {context}\"\n",
        "\n",
        "    response = client.chat.completions.create(\n",
        "        model=model,\n",
        "        messages=[\n",
        "            {\"role\": \"system\", \"content\": system_prompt},\n",
        "            {\"role\": \"user\", \"content\": user_prompt}\n",
        "        ]\n",
        "    )\n",
        "\n",
        "    print(\"Raw API Response:\")\n",
        "    print(response)\n",
        "\n",
        "    if 'data' in response:\n",
        "        for message in response['data']:\n",
        "            if message['role'] == 'assistant':\n",
        "                generated_json = message['content']\n",
        "                try:\n",
        "                    parsed_json = json.loads(generated_json)\n",
        "                    print(\"Generated Dev Container JSON Configuration:\")\n",
        "                    print(json.dumps(parsed_json, indent=4))\n",
        "                    return parsed_json\n",
        "                except json.JSONDecodeError as e:\n",
        "                    print(f\"Error decoding JSON: {e}\")\n",
        "                    return None\n",
        "            else:\n",
        "                print(f\"Role '{message['role']}' not recognized.\")\n",
        "                return None\n",
        "    else:\n",
        "        print(\"No 'data' key found in API response.\")\n",
        "        return None\n"
      ]
    },
    {
      "cell_type": "markdown",
      "metadata": {
        "id": "9TUo797zZ2tN"
      },
      "source": [
        "Main code"
      ]
    },
    {
      "cell_type": "code",
      "execution_count": 78,
      "metadata": {
        "colab": {
          "base_uri": "https://localhost:8080/"
        },
        "id": "kJf_6snmZ56b",
        "outputId": "58622757-38fc-42b2-ab41-201b1e7fe854"
      },
      "outputs": [
        {
          "name": "stdout",
          "output_type": "stream",
          "text": [
            "['https://github.com/facebook/react', 'https://github.com/facebook/create-react-app', 'https://github.com/ReactTraining/react-router', 'https://github.com/reduxjs/redux', 'https://github.com/mui-org/material-ui']\n",
            "Successfully retrieved README.md from https://github.com/facebook/react/raw/main/README.md\n",
            "Failed to retrieve install.md for https://github.com/facebook/react on branch main at path . Status code: 404\n",
            "Successfully retrieved package.json from https://github.com/facebook/react/raw/main/package.json\n",
            "Failed to retrieve install.md for https://github.com/facebook/react on branch main at path docs/. Status code: 404\n",
            "Failed to retrieve install.md for https://github.com/facebook/react on branch main at path src/. Status code: 404\n",
            "Failed to retrieve install.md for https://github.com/facebook/react on branch master at path . Status code: 404\n",
            "Failed to retrieve install.md for https://github.com/facebook/react on branch master at path docs/. Status code: 404\n",
            "Failed to retrieve install.md for https://github.com/facebook/react on branch master at path src/. Status code: 404\n",
            "Failed to retrieve install.md for https://github.com/facebook/react on branch develop at path . Status code: 404\n",
            "Failed to retrieve install.md for https://github.com/facebook/react on branch develop at path docs/. Status code: 404\n",
            "Failed to retrieve install.md for https://github.com/facebook/react on branch develop at path src/. Status code: 404\n",
            "Successfully retrieved README.md from https://github.com/facebook/create-react-app/raw/main/README.md\n",
            "Failed to retrieve install.md for https://github.com/facebook/create-react-app on branch main at path . Status code: 404\n",
            "Successfully retrieved package.json from https://github.com/facebook/create-react-app/raw/main/package.json\n",
            "Failed to retrieve install.md for https://github.com/facebook/create-react-app on branch main at path docs/. Status code: 404\n",
            "Failed to retrieve install.md for https://github.com/facebook/create-react-app on branch main at path src/. Status code: 404\n",
            "Failed to retrieve install.md for https://github.com/facebook/create-react-app on branch master at path . Status code: 404\n",
            "Failed to retrieve install.md for https://github.com/facebook/create-react-app on branch master at path docs/. Status code: 404\n",
            "Failed to retrieve install.md for https://github.com/facebook/create-react-app on branch master at path src/. Status code: 404\n",
            "Failed to retrieve install.md for https://github.com/facebook/create-react-app on branch develop at path . Status code: 404\n",
            "Failed to retrieve install.md for https://github.com/facebook/create-react-app on branch develop at path docs/. Status code: 404\n",
            "Failed to retrieve install.md for https://github.com/facebook/create-react-app on branch develop at path src/. Status code: 404\n",
            "Successfully retrieved README.md from https://github.com/ReactTraining/react-router/raw/main/README.md\n",
            "Failed to retrieve install.md for https://github.com/ReactTraining/react-router on branch main at path . Status code: 404\n",
            "Successfully retrieved package.json from https://github.com/ReactTraining/react-router/raw/main/package.json\n",
            "Failed to retrieve install.md for https://github.com/ReactTraining/react-router on branch main at path docs/. Status code: 404\n",
            "Failed to retrieve install.md for https://github.com/ReactTraining/react-router on branch main at path src/. Status code: 404\n",
            "Failed to retrieve install.md for https://github.com/ReactTraining/react-router on branch master at path . Status code: 404\n",
            "Failed to retrieve install.md for https://github.com/ReactTraining/react-router on branch master at path docs/. Status code: 404\n",
            "Failed to retrieve install.md for https://github.com/ReactTraining/react-router on branch master at path src/. Status code: 404\n",
            "Failed to retrieve install.md for https://github.com/ReactTraining/react-router on branch develop at path . Status code: 404\n",
            "Failed to retrieve install.md for https://github.com/ReactTraining/react-router on branch develop at path docs/. Status code: 404\n",
            "Failed to retrieve install.md for https://github.com/ReactTraining/react-router on branch develop at path src/. Status code: 404\n",
            "Failed to retrieve README.md for https://github.com/reduxjs/redux on branch main at path . Status code: 404\n",
            "Failed to retrieve install.md for https://github.com/reduxjs/redux on branch main at path . Status code: 404\n",
            "Failed to retrieve package.json for https://github.com/reduxjs/redux on branch main at path . Status code: 404\n",
            "Failed to retrieve README.md for https://github.com/reduxjs/redux on branch main at path docs/. Status code: 404\n",
            "Failed to retrieve install.md for https://github.com/reduxjs/redux on branch main at path docs/. Status code: 404\n",
            "Failed to retrieve package.json for https://github.com/reduxjs/redux on branch main at path docs/. Status code: 404\n",
            "Failed to retrieve README.md for https://github.com/reduxjs/redux on branch main at path src/. Status code: 404\n",
            "Failed to retrieve install.md for https://github.com/reduxjs/redux on branch main at path src/. Status code: 404\n",
            "Failed to retrieve package.json for https://github.com/reduxjs/redux on branch main at path src/. Status code: 404\n",
            "Successfully retrieved README.md from https://github.com/reduxjs/redux/raw/master/README.md\n",
            "Failed to retrieve install.md for https://github.com/reduxjs/redux on branch master at path . Status code: 404\n",
            "Successfully retrieved package.json from https://github.com/reduxjs/redux/raw/master/package.json\n",
            "Failed to retrieve install.md for https://github.com/reduxjs/redux on branch master at path docs/. Status code: 404\n",
            "Failed to retrieve install.md for https://github.com/reduxjs/redux on branch master at path src/. Status code: 404\n",
            "Failed to retrieve install.md for https://github.com/reduxjs/redux on branch develop at path . Status code: 404\n",
            "Failed to retrieve install.md for https://github.com/reduxjs/redux on branch develop at path docs/. Status code: 404\n",
            "Failed to retrieve install.md for https://github.com/reduxjs/redux on branch develop at path src/. Status code: 404\n",
            "Failed to retrieve README.md for https://github.com/mui-org/material-ui on branch main at path . Status code: 404\n",
            "Failed to retrieve install.md for https://github.com/mui-org/material-ui on branch main at path . Status code: 404\n",
            "Failed to retrieve package.json for https://github.com/mui-org/material-ui on branch main at path . Status code: 404\n",
            "Failed to retrieve README.md for https://github.com/mui-org/material-ui on branch main at path docs/. Status code: 404\n",
            "Failed to retrieve install.md for https://github.com/mui-org/material-ui on branch main at path docs/. Status code: 404\n",
            "Failed to retrieve package.json for https://github.com/mui-org/material-ui on branch main at path docs/. Status code: 404\n",
            "Failed to retrieve README.md for https://github.com/mui-org/material-ui on branch main at path src/. Status code: 404\n",
            "Failed to retrieve install.md for https://github.com/mui-org/material-ui on branch main at path src/. Status code: 404\n",
            "Failed to retrieve package.json for https://github.com/mui-org/material-ui on branch main at path src/. Status code: 404\n",
            "Successfully retrieved README.md from https://github.com/mui-org/material-ui/raw/master/README.md\n",
            "Failed to retrieve install.md for https://github.com/mui-org/material-ui on branch master at path . Status code: 404\n",
            "Successfully retrieved package.json from https://github.com/mui-org/material-ui/raw/master/package.json\n",
            "Failed to retrieve install.md for https://github.com/mui-org/material-ui on branch master at path docs/. Status code: 404\n",
            "Failed to retrieve install.md for https://github.com/mui-org/material-ui on branch master at path src/. Status code: 404\n",
            "Failed to retrieve install.md for https://github.com/mui-org/material-ui on branch develop at path . Status code: 404\n",
            "Failed to retrieve install.md for https://github.com/mui-org/material-ui on branch develop at path docs/. Status code: 404\n",
            "Failed to retrieve install.md for https://github.com/mui-org/material-ui on branch develop at path src/. Status code: 404\n"
          ]
        }
      ],
      "source": [
        "if flag == False:\n",
        "  repos=generate_github_repos(prompt)\n",
        "  print(repos)\n",
        "  files=retrieve_files(repos)\n",
        "else:\n",
        "  repo=[prompt]\n",
        "  files=retrieve_files(repo)\n",
        "context = collect_context(files)\n",
        "generate_dev_container_json(context)"
      ]
    }
  ],
  "metadata": {
    "colab": {
      "provenance": []
    },
    "kernelspec": {
      "display_name": "Python 3",
      "name": "python3"
    },
    "language_info": {
      "name": "python"
    }
  },
  "nbformat": 4,
  "nbformat_minor": 0
}
